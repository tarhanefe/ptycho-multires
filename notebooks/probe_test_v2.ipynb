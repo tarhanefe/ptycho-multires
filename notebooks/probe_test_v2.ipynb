{
 "cells": [
  {
   "cell_type": "code",
   "execution_count": null,
   "metadata": {},
   "outputs": [],
   "source": [
    "import torch\n",
    "from matplotlib import pyplot as plt\n",
    "from time import time\n",
    "import numpy as np\n",
    "from ptycho_v2.tools_v2.ptychography import Ptychography\n",
    "from ptycho_v2.tools_v2.u_electron_microscopy import initialize_physical_params, get_proj, get_ring_average\n",
    "from ptycho_v2.tools_v2.u_ptychography import get_overlap_img,get_overlap_area"
   ]
  },
  {
   "cell_type": "code",
   "execution_count": 2,
   "metadata": {},
   "outputs": [],
   "source": [
    "# Initialize object\n",
    "max_scale = 9\n",
    "max_probe_size = 128\n",
    "max_shift = 32\n",
    "device = 'cuda'"
   ]
  },
  {
   "cell_type": "code",
   "execution_count": 3,
   "metadata": {},
   "outputs": [],
   "source": [
    "linop = Ptychography(max_scale = max_scale,max_probe_size = max_probe_size ,max_shift = max_shift,device=device)\n",
    "image = plt.imread('images/peppers.jpg')[:2**max_scale, :2**max_scale] / 255\n",
    "image_tensor = torch.tensor(image).double().to(device).view(1, 1, 2**max_scale, 2**max_scale)\n",
    "image_tensor_ = torch.exp(1j * image_tensor)"
   ]
  },
  {
   "cell_type": "code",
   "execution_count": 4,
   "metadata": {},
   "outputs": [],
   "source": [
    "m = linop.apply(image_tensor_)\n",
    "probe = linop.probe.cpu()"
   ]
  },
  {
   "cell_type": "code",
   "execution_count": null,
   "metadata": {},
   "outputs": [],
   "source": [
    "plt.figure(figsize=(15,4),dpi = 120)\n",
    "\n",
    "plt.subplot(1, 3, 1)\n",
    "plt.imshow(torch.abs(probe),cmap='gray')\n",
    "plt.title(r\"$(a)$ Magnitude of a Single Probe\")\n",
    "plt.colorbar()\n",
    "\n",
    "overlap_area = get_overlap_area(probe, linop.shifts)\n",
    "plt.subplot(1, 3, 2)\n",
    "plt.imshow(overlap_area,cmap='gray')\n",
    "plt.locator_params(axis='x', nbins=20)  # Increase number of x-axis ticks to 20\n",
    "plt.locator_params(axis='y', nbins=20)\n",
    "plt.title(r\"$(b)$ Overlap Area of Two Probes\")\n",
    "plt.colorbar()\n",
    "\n",
    "# Plot overlap img\n",
    "overlap_img = get_overlap_img(linop.probe, linop.shifts, n_dim=2)\n",
    "plt.subplot(1, 3, 3)\n",
    "plt.imshow(overlap_img.cpu(), cmap='gray')\n",
    "plt.title(r\"$(c)$ Overlap Magnitude Image of All Probes\")\n",
    "plt.colorbar()\n",
    "plt.tight_layout()\n",
    "plt.savefig(\"figs/probe.eps\")\n",
    "plt.savefig(\"figs/probe.png\")\n"
   ]
  },
  {
   "cell_type": "code",
   "execution_count": null,
   "metadata": {},
   "outputs": [],
   "source": [
    "plt.figure(figsize=(15,4),dpi = 120)\n",
    "\n",
    "plt.subplot(1, 3, 1)\n",
    "plt.imshow(torch.abs(probe),cmap='gray')\n",
    "plt.title(r\"$(a)$ Magnitude of a Single Probe\")\n",
    "plt.colorbar()\n",
    "\n",
    "plt.subplot(1, 3, 1)\n",
    "plt.imshow(torch.angle(probe),cmap='gray')\n",
    "plt.title(r\"$(b)$ Phase of a Single Probe\")\n",
    "plt.colorbar()\n",
    "# Plot overlap img\n",
    "overlap_img = get_overlap_img(linop.probe, linop.shifts, n_dim=2)\n",
    "plt.subplot(1, 3, 3)\n",
    "plt.imshow(overlap_img.cpu(), cmap='gray')\n",
    "plt.title(r\"$(c)$ Overlap Magnitude Image of All Probes\")\n",
    "plt.colorbar()\n",
    "plt.tight_layout()\n",
    "plt.savefig(\"figs/probe__.eps\")\n",
    "plt.savefig(\"figs/probe__.png\")\n"
   ]
  },
  {
   "cell_type": "code",
   "execution_count": null,
   "metadata": {},
   "outputs": [],
   "source": []
  }
 ],
 "metadata": {
  "kernelspec": {
   "display_name": ".venv",
   "language": "python",
   "name": "python3"
  },
  "language_info": {
   "codemirror_mode": {
    "name": "ipython",
    "version": 3
   },
   "file_extension": ".py",
   "mimetype": "text/x-python",
   "name": "python",
   "nbconvert_exporter": "python",
   "pygments_lexer": "ipython3",
   "version": "3.8.10"
  }
 },
 "nbformat": 4,
 "nbformat_minor": 2
}
