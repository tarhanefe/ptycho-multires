{
 "cells": [
  {
   "cell_type": "code",
   "execution_count": null,
   "metadata": {},
   "outputs": [],
   "source": [
    "import os \n",
    "os.chdir(\"..\")\n",
    "os.chdir(\"..\")\n",
    "from src.cpwc.multires.class_multiressolver import *\n",
    "import matplotlib.pyplot as plt\n",
    "import torch\n",
    "from src.cpwc.tools.ptychography import Ptychography as Ptychography\n",
    "from src.cpwc.tools.utils import *\n",
    "torch.cuda.empty_cache()\n",
    "from src.utils.cuda_pyth import empty_cuda, print_cuda_tensors\n",
    "from src.utils.get_image import get_image\n",
    "from src.utils.noise import add_gaussian_noise, add_poisson_noise\n",
    "from src.utils.metrics import get_ring_average\n",
    "from src.utils.manage_data import save_data,unwrap_2d,extract_data\n",
    "# Set seeds \n",
    "torch.manual_seed(0)\n",
    "np.random.seed(0)\n",
    "\n",
    "device = \"cuda\" if torch.cuda.is_available() else \"cpu\"\n",
    "max_scale = 9\n",
    "image,image_tensor_ = get_image(\"samples/potential.npy\", max_scale,device)\n",
    "max_probe_size = 128\n",
    "cycle = [0, -1, -1, -1,  1, 1, 1]\n",
    "tol = [1e-10] * 9\n",
    "tol_in = [1e-15] * 9\n"
   ]
  },
  {
   "cell_type": "code",
   "execution_count": null,
   "metadata": {},
   "outputs": [],
   "source": [
    "# % 75 Overlap w/ MRGD\n",
    "LR = 1e-2\n",
    "max_shift = 32\n",
    "I_in = 25*np.array([1, 15, 10, 5, 10, 30, 100])\n",
    "I_out = 10*np.array([0, 0, 0, 30, 10,10,300])\n",
    "lmbda = 1e-9\n",
    "noise = 1e6\n",
    "linOperator = Ptychography(max_scale = max_scale,max_probe_size = max_probe_size ,max_shift = max_shift,device=device)\n",
    "multires = MultiRes(max_scale, device)\n",
    "image_tensor__ = linOperator.apply(image_tensor_)\n",
    "image_tensor__ = add_poisson_noise(image_tensor__, noise, 'cuda')\n",
    "loss = Loss(linOperator,image_tensor__,lmbda= lmbda)\n",
    "model = MultiResSolver(multires, \n",
    "                        loss, \n",
    "                        LR = LR,\n",
    "                        I_in = I_in,\n",
    "                        I_out = I_out,\n",
    "                        tol = tol,\n",
    "                        tol_in = tol_in,\n",
    "                        cycle = cycle,\n",
    "                        l1_type = \"l1_row\",\n",
    "                        gt = image_tensor_)\n",
    "model.solve_multigrid()\n",
    "model.print_time()\n",
    "\n",
    "if max_shift == 32:\n",
    "    overlap = 75\n",
    "elif max_shift == 64:\n",
    "    overlap = 50\n",
    "else:\n",
    "    overlap = 25\n"
   ]
  },
  {
   "cell_type": "code",
   "execution_count": null,
   "metadata": {},
   "outputs": [],
   "source": [
    "path = save_data(model = model,\n",
    "          image_path= \"samples/potential.npy\",\n",
    "          metrics = ['csim','loss','frc',\"image\"],\n",
    "          device = \"cuda\",\n",
    "          max_scale = 9,\n",
    "          overlap = overlap,\n",
    "          spline_type=\"cpwc\",\n",
    "          lambda_ = lmbda,\n",
    "          noise_type=\"poisson\",\n",
    "          noise = noise,\n",
    "          loop = \"mrgd\")"
   ]
  },
  {
   "cell_type": "code",
   "execution_count": null,
   "metadata": {},
   "outputs": [],
   "source": [
    "image = np.load(path + \"_image.npy\")"
   ]
  },
  {
   "cell_type": "code",
   "execution_count": null,
   "metadata": {},
   "outputs": [],
   "source": [
    "plt.imshow(image)\n",
    "plt.axis(\"off\")"
   ]
  },
  {
   "cell_type": "code",
   "execution_count": null,
   "metadata": {},
   "outputs": [],
   "source": [
    "\n",
    "frc = np.load(path + \"_frc.npy\")"
   ]
  },
  {
   "cell_type": "code",
   "execution_count": null,
   "metadata": {},
   "outputs": [],
   "source": [
    "plt.figure(dpi = 200)\n",
    "plt.plot(frc)\n",
    "plt.grid()"
   ]
  },
  {
   "cell_type": "code",
   "execution_count": null,
   "metadata": {},
   "outputs": [],
   "source": [
    "frc1 = np.load(\"data/cpwc_overlap25_mrgd_lambda1e-09_noise_typepoisson_noise1000000.0_frc.npy\")\n",
    "frc2 = np.load(\"data/cpwc_overlap50_mrgd_lambda1e-09_noise_typepoisson_noise1000000.0_frc.npy\")\n",
    "frc3 = np.load(\"data/cpwc_overlap75_mrgd_lambda1e-09_noise_typepoisson_noise1000000.0_frc.npy\")\n",
    "plt.figure(dpi = 200)\n",
    "plt.semilogy(frc1)\n",
    "plt.semilogy(frc2)\n",
    "plt.semilogy(frc3)\n",
    "plt.grid()\n",
    "plt.legend([\"Overlap 25\",\"Overlap 50\",\"Overlap 75\"])\n",
    "plt.title(\"FRC\")\n",
    "plt.xlabel(\"Resolution\")\n",
    "plt.ylabel(\"Correlation\")\n"
   ]
  },
  {
   "cell_type": "code",
   "execution_count": null,
   "metadata": {},
   "outputs": [],
   "source": []
  }
 ],
 "metadata": {
  "kernelspec": {
   "display_name": ".venv",
   "language": "python",
   "name": "python3"
  },
  "language_info": {
   "codemirror_mode": {
    "name": "ipython",
    "version": 3
   },
   "file_extension": ".py",
   "mimetype": "text/x-python",
   "name": "python",
   "nbconvert_exporter": "python",
   "pygments_lexer": "ipython3",
   "version": "3.8.10"
  }
 },
 "nbformat": 4,
 "nbformat_minor": 2
}
