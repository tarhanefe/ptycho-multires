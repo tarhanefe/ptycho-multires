{
 "cells": [
  {
   "cell_type": "code",
   "execution_count": null,
   "metadata": {},
   "outputs": [],
   "source": [
    "import os \n",
    "os.chdir(\"..\")\n",
    "from src.cpwc.multires.class_multiressolver import *\n",
    "import matplotlib.pyplot as plt\n",
    "import torch\n",
    "from src.cpwc.tools.ptychography import Ptychography as Ptychography\n",
    "from src.cpwc.tools.utils import *\n",
    "torch.cuda.empty_cache()\n",
    "\n",
    "# Set seeds \n",
    "torch.manual_seed(0)\n",
    "np.random.seed(0)\n",
    "import gc\n",
    "for obj in gc.get_objects():\n",
    "    try:\n",
    "        if torch.is_tensor(obj) and obj.is_cuda:\n",
    "            print(type(obj), obj.size())\n",
    "    except Exception:\n",
    "        pass\n",
    "\n",
    "cycle = [0, -1, -1, -1,  1, 1, 1]\n",
    "lmbda = 0\n",
    "tol = [1e-10] * 9\n",
    "tol_in = [1e-10] * 9\n",
    "device = 'cuda'\n",
    "max_scale = 9\n",
    "max_probe_size = 128\n",
    "image = np.load(\"test_data/potential.npy\")\n",
    "image = (image - image.min())/(image.max() - image.min()) \n",
    "image_tensor = torch.tensor(image).double().to(device).view(1, 1, 2**max_scale, 2**max_scale)\n",
    "image_tensor_ = torch.exp(1j * image_tensor)\n",
    "multires = MultiRes(max_scale, device)\n",
    "\n",
    "\n",
    "def extract_data(nested_list):\n",
    "    result = []\n",
    "    for item in nested_list:\n",
    "        if isinstance(item, list):  # If the item is a list, recurse into it\n",
    "            result.extend(extract_data(item))\n",
    "        else:  # If the item is not a list, add it to the result\n",
    "            result.append(item)\n",
    "    return result\n",
    "\n",
    "def unwrap_2d(phase):\n",
    "    \"\"\"\n",
    "    Unwraps a 2D phase array using NumPy's 1D unwrap function.\n",
    "    \n",
    "    Parameters:\n",
    "    phase (numpy array): The 2D phase array to be unwrapped.\n",
    "    \n",
    "    Returns:\n",
    "    unwrapped_phase (numpy array): The 2D unwrapped phase array.\n",
    "    \"\"\"\n",
    "    # Unwrap along the first axis (rows)\n",
    "    unwrapped_phase = np.unwrap(phase, axis=0)\n",
    "    \n",
    "    # Unwrap along the second axis (columns)\n",
    "    unwrapped_phase = np.unwrap(unwrapped_phase, axis=1)\n",
    "    \n",
    "    return unwrapped_phase\n",
    "\n",
    "def save_data(model,model_name,image):\n",
    "    image = image[::,::]\n",
    "    mean_img = np.mean(image)\n",
    "    loss_data = extract_data(model.measures[\"loss\"])\n",
    "    cos_sim = extract_data(model.measures[\"csim\"])\n",
    "    phase = torch.angle(model.c_k[0,0,:,:].to('cpu'))\n",
    "    phase = phase.numpy()\n",
    "    phase = unwrap_2d(phase)\n",
    "    phase += (mean_img-np.mean(phase)) \n",
    "\n",
    "    np.save(\"np_data/{}_overlap_loss.npy\".format(model_name), loss_data)\n",
    "    np.save(\"np_data/{}_overlap_csim.npy\".format(model_name), cos_sim)\n",
    "    np.save(\"np_data/{}_overlap_image.npy\".format(model_name), phase)"
   ]
  },
  {
   "cell_type": "code",
   "execution_count": 1,
   "metadata": {},
   "outputs": [
    {
     "ename": "NameError",
     "evalue": "name 'os' is not defined",
     "output_type": "error",
     "traceback": [
      "\u001b[0;31m---------------------------------------------------------------------------\u001b[0m",
      "\u001b[0;31mNameError\u001b[0m                                 Traceback (most recent call last)",
      "Cell \u001b[0;32mIn[1], line 9\u001b[0m\n\u001b[1;32m      7\u001b[0m     \u001b[38;5;28;01mif\u001b[39;00m torch\u001b[38;5;241m.\u001b[39mcuda\u001b[38;5;241m.\u001b[39mis_available():\n\u001b[1;32m      8\u001b[0m         torch\u001b[38;5;241m.\u001b[39mcuda\u001b[38;5;241m.\u001b[39mmanual_seed_all(seed)\n\u001b[0;32m----> 9\u001b[0m a \u001b[38;5;241m=\u001b[39m \u001b[43mos\u001b[49m\u001b[38;5;241m.\u001b[39mchdir(\u001b[38;5;124m\"\u001b[39m\u001b[38;5;124m./dat\u001b[39m\u001b[38;5;124m\"\u001b[39m)\n",
      "\u001b[0;31mNameError\u001b[0m: name 'os' is not defined"
     ]
    }
   ],
   "source": [
    "import random\n",
    "seed_list = [i*10 for i in range(1,10)]\n",
    "def set_seed(seed):\n",
    "    random.seed(seed)\n",
    "    np.random.seed(seed)\n",
    "    torch.manual_seed(seed)\n",
    "    if torch.cuda.is_available():\n",
    "        torch.cuda.manual_seed_all(seed)\n",
    "a = os.chdir(\"./dat\")"
   ]
  },
  {
   "cell_type": "code",
   "execution_count": null,
   "metadata": {},
   "outputs": [],
   "source": [
    "import torch\n",
    "import numpy as np\n",
    "import os\n",
    "\n",
    "seed = 60\n",
    "set_seed(seed)\n",
    "\n",
    "# Initialize probe and operator\n",
    "probe = Ptychography(image_tensor_, max_probe_size, max_probe_size, 1, device)\n",
    "LR = 1e-2\n",
    "max_shift = 32\n",
    "I_in = 15 * np.array([1, 15, 10, 5, 10, 30, 100])\n",
    "I_out = 5 * np.array([0, 0, 0, 30, 30, 40, 300])\n",
    "linOperator = Ptychography(max_scale=max_scale, max_probe_size=max_probe_size, max_shift=max_shift, device=device)\n",
    "image_tensor_ = linOperator.apply(image_tensor_)\n",
    "\n",
    "# Define loss function\n",
    "loss = Loss(linOperator, image_tensor_,lmbda = 1e-7)\n",
    "\n",
    "# Initialize solver\n",
    "model = MultiResSolver(multires, loss, LR=LR, I_in=I_in, I_out=I_out, tol=tol, tol_in=tol_in, cycle=cycle, l1_type=\"l1_row\",gt=image)\n",
    "\n",
    "# Solve\n",
    "model.solve_multigrid()\n",
    "model.print_time()\n",
    "\n",
    "image = image[::,::]\n",
    "mean_img = np.mean(image)\n",
    "loss_data2 = extract_data(model.measures[\"loss\"])\n",
    "cos_sim2 = extract_data(model.measures[\"csim\"])\n",
    "phase = torch.angle(model.c_k[0,0,:,:].to('cpu'))\n",
    "phase = phase.numpy()\n",
    "phase = unwrap_2d(phase)\n",
    "phase += (mean_img-np.mean(phase)) \n",
    "# Extract and store new loss values\n",
    "# Save checkpoint and loss values\n",
    "#np.save(checkpoint_dir+\"/overlap_loss_{}.npy\".format(seed), loss_data)\n",
    "#np.save(checkpoint_dir+\"/overlap_csim_{}.npy\".format(seed), cos_sim)\n",
    "#np.save(checkpoint_dir+\"/overlap_image_{}.npy\".format(seed), phase)\n"
   ]
  },
  {
   "cell_type": "code",
   "execution_count": 2,
   "metadata": {},
   "outputs": [
    {
     "ename": "NameError",
     "evalue": "name 'image' is not defined",
     "output_type": "error",
     "traceback": [
      "\u001b[0;31m---------------------------------------------------------------------------\u001b[0m",
      "\u001b[0;31mNameError\u001b[0m                                 Traceback (most recent call last)",
      "Cell \u001b[0;32mIn[2], line 1\u001b[0m\n\u001b[0;32m----> 1\u001b[0m image \u001b[38;5;241m=\u001b[39m \u001b[43mimage\u001b[49m[::,::]\n\u001b[1;32m      2\u001b[0m mean_img \u001b[38;5;241m=\u001b[39m np\u001b[38;5;241m.\u001b[39mmean(image)\n\u001b[1;32m      3\u001b[0m loss_data \u001b[38;5;241m=\u001b[39m extract_data(model\u001b[38;5;241m.\u001b[39mmeasures[\u001b[38;5;124m\"\u001b[39m\u001b[38;5;124mloss\u001b[39m\u001b[38;5;124m\"\u001b[39m])\n",
      "\u001b[0;31mNameError\u001b[0m: name 'image' is not defined"
     ]
    }
   ],
   "source": [
    "image = image[::,::]\n",
    "mean_img = np.mean(image)\n",
    "loss_data = extract_data(model.measures[\"loss\"])\n",
    "cos_sim = extract_data(model.measures[\"csim\"])\n",
    "phase = torch.angle(model.c_k[0,0,:,:].to('cpu'))\n",
    "phase = phase.numpy()\n",
    "phase = unwrap_2d(phase)\n",
    "phase += (mean_img-np.mean(phase)) \n",
    "plt.imshow(phase, cmap='gray')\n",
    "plt.axis('off')\n"
   ]
  },
  {
   "cell_type": "code",
   "execution_count": null,
   "metadata": {},
   "outputs": [],
   "source": [
    "np.save(\"./comp/overlap_loss.npy\", loss_data)\n",
    "np.save(\"./comp/overlap_csim.npy\", cos_sim)\n",
    "np.save(\"./comp/overlap_image.npy\", phase)"
   ]
  },
  {
   "cell_type": "code",
   "execution_count": null,
   "metadata": {},
   "outputs": [],
   "source": [
    "image = \"./comp/overlap_image.npy\"\n",
    "image_reg = \"./comp/reg_overlap_image.npy\"\n",
    "\n",
    "plt.figure()\n",
    "plt.imshow(np.load(image), cmap='gray')\n",
    "plt.axis('off')\n",
    "plt.figure()\n",
    "plt.imshow(np.load(image_reg), cmap='gray')\n",
    "plt.axis('off')\n",
    "plt.show()\n",
    "\n",
    "\n",
    "plt.imsave(\"./comp/overlap_image.tiff\", np.load(image), cmap='gray')\n",
    "plt.imsave(\"./comp/reg_overlap_image.tiff\", np.load(image_reg), cmap='gray')"
   ]
  },
  {
   "cell_type": "code",
   "execution_count": null,
   "metadata": {},
   "outputs": [],
   "source": [
    "#Plot the loss values using the shorter array where len(loss) != len(loss_reg)\n",
    "loss = np.load(\"./comp/overlap_loss.npy\")\n",
    "loss_reg = np.load(\"./comp/reg_overlap_loss.npy\")\n",
    "plt.figure(dpi = 600,figsize = (10,5))\n",
    "plt.semilogy(loss, label='MRGD')\n",
    "plt.semilogy(loss_reg, label='MRGD w/Regularization')\n",
    "plt.xlabel('Iterations')\n",
    "plt.ylabel('Loss')\n",
    "plt.legend()\n",
    "plt.grid()\n",
    "plt.show()\n"
   ]
  },
  {
   "cell_type": "code",
   "execution_count": null,
   "metadata": {},
   "outputs": [],
   "source": []
  }
 ],
 "metadata": {
  "kernelspec": {
   "display_name": ".venv",
   "language": "python",
   "name": "python3"
  },
  "language_info": {
   "codemirror_mode": {
    "name": "ipython",
    "version": 3
   },
   "file_extension": ".py",
   "mimetype": "text/x-python",
   "name": "python",
   "nbconvert_exporter": "python",
   "pygments_lexer": "ipython3",
   "version": "3.8.10"
  }
 },
 "nbformat": 4,
 "nbformat_minor": 2
}
