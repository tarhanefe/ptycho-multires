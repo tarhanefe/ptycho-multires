{
 "cells": [
  {
   "cell_type": "code",
   "execution_count": null,
   "metadata": {},
   "outputs": [],
   "source": [
    "import sys\n",
    "import os\n",
    "import torch\n",
    "from matplotlib import pyplot as plt\n",
    "from time import time\n",
    "import numpy as np\n",
    "os.chdir(\"..\")\n",
    "from src.cpwc.tools.ptychography import Ptychography\n",
    "from src.cpwc.tools.u_electron_microscopy import initialize_physical_params, get_proj, get_ring_average\n",
    "from src.cpwc.tools.u_ptychography import get_overlap_img,get_overlap_area"
   ]
  },
  {
   "cell_type": "code",
   "execution_count": null,
   "metadata": {},
   "outputs": [],
   "source": [
    "# Initialize object\n",
    "max_scale = 7\n",
    "max_probe_size = 32\n",
    "max_shift = 8\n",
    "device = 'cuda'"
   ]
  },
  {
   "cell_type": "code",
   "execution_count": null,
   "metadata": {},
   "outputs": [],
   "source": [
    "linop1 = Ptychography(max_scale = max_scale,max_probe_size = max_probe_size ,max_shift = max_shift,device=device)\n",
    "linop2 = Ptychography(max_scale = max_scale,max_probe_size = max_probe_size ,max_shift = max_shift,device=device)\n",
    "linop4 = Ptychography(max_scale = max_scale,max_probe_size = max_probe_size ,max_shift = max_shift,device=device)\n",
    "linop8 = Ptychography(max_scale = max_scale,max_probe_size = max_probe_size ,max_shift = max_shift,device=device)\n",
    "image = plt.imread('test_data/peppers.jpg')[:2**max_scale, :2**max_scale] / 255\n",
    "image_tensor = torch.tensor(image).double().to(device).view(1, 1, 2**max_scale, 2**max_scale)\n",
    "image_tensor_ = torch.exp(1j * image_tensor)"
   ]
  },
  {
   "cell_type": "code",
   "execution_count": null,
   "metadata": {},
   "outputs": [],
   "source": [
    "image_tensor_2 = image_tensor_[:,:,::2,::2]\n",
    "image_tensor_4 = image_tensor_[:,:,::4,::4]\n",
    "image_tensor_8 = image_tensor_[:,:,::8,::8]\n",
    "\n",
    "m1 = linop1.apply(image_tensor_)\n",
    "probe1 = linop1.probe.cpu()\n",
    "\n",
    "m2 = linop2.apply(image_tensor_2)\n",
    "probe2 = linop2.probe.cpu()\n",
    "\n",
    "m4 = linop4.apply(image_tensor_4)\n",
    "probe4 = linop4.probe.cpu()\n",
    "\n",
    "m8 = linop8.apply(image_tensor_8)\n",
    "probe8 = linop8.probe.cpu()\n",
    "\n",
    "\n",
    "\n"
   ]
  },
  {
   "cell_type": "code",
   "execution_count": null,
   "metadata": {},
   "outputs": [],
   "source": [
    "plt.figure(figsize=(10,25),dpi = 120)\n",
    "\n",
    "plt.subplot(4, 2, 1)\n",
    "plt.imshow(torch.abs(probe1),cmap='gray')\n",
    "plt.title(r\"$(a)$ Magnitude of a Single Probe\")\n",
    "plt.colorbar()\n",
    "\n",
    "# Plot overlap img\n",
    "overlap_img = get_overlap_img(linop1.probe, linop1.shifts, n_dim=2)\n",
    "plt.subplot(4, 2, 2)\n",
    "plt.imshow(overlap_img.cpu(), cmap='gray')\n",
    "plt.title(r\"$(c)$ Overlap Magnitude Image of All Probes\")\n",
    "plt.colorbar()\n",
    "\n",
    "plt.subplot(4, 2, 3)\n",
    "plt.imshow(torch.abs(probe2),cmap='gray')\n",
    "plt.title(r\"$(b)$ Magnitude of a Single Probe\")\n",
    "plt.colorbar()\n",
    "\n",
    "# Plot overlap img\n",
    "overlap_img = get_overlap_img(linop2.probe, linop2.shifts, n_dim=2)\n",
    "plt.subplot(4, 2, 4)\n",
    "plt.imshow(overlap_img.cpu(), cmap='gray')\n",
    "plt.title(r\"$(d)$ Overlap Magnitude Image of All Probes\")\n",
    "plt.colorbar()\n",
    "\n",
    "plt.subplot(4, 2, 5)\n",
    "plt.imshow(torch.abs(probe4),cmap='gray')\n",
    "plt.title(r\"$(b)$ Magnitude of a Single Probe\")\n",
    "plt.colorbar()\n",
    "\n",
    "# Plot overlap img\n",
    "overlap_img = get_overlap_img(linop4.probe, linop4.shifts, n_dim=2)\n",
    "plt.subplot(4, 2, 6)\n",
    "plt.imshow(overlap_img.cpu(), cmap='gray')\n",
    "plt.title(r\"$(d)$ Overlap Magnitude Image of All Probes\")\n",
    "plt.colorbar()\n",
    "\n",
    "plt.subplot(4, 2, 7)\n",
    "plt.imshow(torch.abs(probe8),cmap='gray')\n",
    "plt.title(r\"$(b)$ Magnitude of a Single Probe\")\n",
    "plt.colorbar()\n",
    "\n",
    "# Plot overlap img\n",
    "overlap_img = get_overlap_img(linop8.probe, linop8.shifts, n_dim=2)\n",
    "plt.subplot(4, 2, 8)\n",
    "plt.imshow(overlap_img.cpu(), cmap='gray')\n",
    "plt.title(r\"$(d)$ Overlap Magnitude Image of All Probes\")\n",
    "plt.colorbar()\n",
    "\n",
    "plt.show()\n",
    "plt.tight_layout()\n",
    "\n"
   ]
  },
  {
   "cell_type": "code",
   "execution_count": null,
   "metadata": {},
   "outputs": [],
   "source": [
    "plt.figure(figsize=(15,4),dpi = 120)\n",
    "\n",
    "plt.subplot(1, 3, 1)\n",
    "plt.imshow(torch.abs(probe),cmap='gray')\n",
    "plt.title(r\"$(a)$ Magnitude of a Single Probe\")\n",
    "plt.colorbar()\n",
    "\n",
    "overlap_area = get_overlap_area(probe, linop.shifts)\n",
    "plt.subplot(1, 3, 2)\n",
    "plt.imshow(overlap_area,cmap='gray')\n",
    "plt.locator_params(axis='x', nbins=20)  # Increase number of x-axis ticks to 20\n",
    "plt.locator_params(axis='y', nbins=20)\n",
    "plt.title(r\"$(b)$ Overlap Area of Two Probes\")\n",
    "plt.colorbar()\n",
    "\n",
    "# Plot overlap img\n",
    "overlap_img = get_overlap_img(linop.probe, linop.shifts, n_dim=2)\n",
    "plt.subplot(1, 3, 3)\n",
    "plt.imshow(overlap_img.cpu(), cmap='gray')\n",
    "plt.title(r\"$(c)$ Overlap Magnitude Image of All Probes\")\n",
    "plt.colorbar()\n",
    "plt.tight_layout()\n",
    "plt.show()\n"
   ]
  },
  {
   "cell_type": "code",
   "execution_count": null,
   "metadata": {},
   "outputs": [],
   "source": []
  }
 ],
 "metadata": {
  "kernelspec": {
   "display_name": ".venv",
   "language": "python",
   "name": "python3"
  },
  "language_info": {
   "codemirror_mode": {
    "name": "ipython",
    "version": 3
   },
   "file_extension": ".py",
   "mimetype": "text/x-python",
   "name": "python",
   "nbconvert_exporter": "python",
   "pygments_lexer": "ipython3",
   "version": "3.8.10"
  }
 },
 "nbformat": 4,
 "nbformat_minor": 2
}
