{
 "cells": [
  {
   "cell_type": "code",
   "execution_count": 1,
   "metadata": {},
   "outputs": [
    {
     "name": "stderr",
     "output_type": "stream",
     "text": [
      "/home/efe/Desktop/Multiresolution-Framework-for-Fourier-Ptychography/.venv/lib/python3.8/site-packages/tqdm/auto.py:21: TqdmWarning: IProgress not found. Please update jupyter and ipywidgets. See https://ipywidgets.readthedocs.io/en/stable/user_install.html\n",
      "  from .autonotebook import tqdm as notebook_tqdm\n"
     ]
    }
   ],
   "source": [
    "from ptycho_v2.tools_v2.ptychography import Ptychography"
   ]
  },
  {
   "cell_type": "code",
   "execution_count": 2,
   "metadata": {},
   "outputs": [
    {
     "ename": "TypeError",
     "evalue": "__init__() got an unexpected keyword argument 'n_img'",
     "output_type": "error",
     "traceback": [
      "\u001b[0;31m---------------------------------------------------------------------------\u001b[0m",
      "\u001b[0;31mTypeError\u001b[0m                                 Traceback (most recent call last)",
      "Cell \u001b[0;32mIn[2], line 4\u001b[0m\n\u001b[1;32m      2\u001b[0m img_count \u001b[38;5;241m=\u001b[39m \u001b[38;5;241m100\u001b[39m\n\u001b[1;32m      3\u001b[0m device \u001b[38;5;241m=\u001b[39m \u001b[38;5;124m'\u001b[39m\u001b[38;5;124mcuda\u001b[39m\u001b[38;5;124m'\u001b[39m\n\u001b[0;32m----> 4\u001b[0m linop \u001b[38;5;241m=\u001b[39m \u001b[43mPtychography\u001b[49m\u001b[43m(\u001b[49m\u001b[43mn_img\u001b[49m\u001b[38;5;241;43m=\u001b[39;49m\u001b[43mimg_count\u001b[49m\u001b[43m,\u001b[49m\u001b[43mprobe_radius\u001b[49m\u001b[38;5;241;43m=\u001b[39;49m\u001b[38;5;241;43m32\u001b[39;49m\u001b[43m,\u001b[49m\u001b[43mfov\u001b[49m\u001b[38;5;241;43m=\u001b[39;49m\u001b[38;5;241;43m170\u001b[39;49m\u001b[43m,\u001b[49m\u001b[43m \u001b[49m\u001b[43mdevice\u001b[49m\u001b[38;5;241;43m=\u001b[39;49m\u001b[43mdevice\u001b[49m\u001b[43m,\u001b[49m\u001b[43mmax_scale\u001b[49m\u001b[38;5;241;43m=\u001b[39;49m\u001b[38;5;241;43m9\u001b[39;49m\u001b[43m)\u001b[49m\n",
      "\u001b[0;31mTypeError\u001b[0m: __init__() got an unexpected keyword argument 'n_img'"
     ]
    }
   ],
   "source": [
    "max_scale = 9\n",
    "img_count = 100\n",
    "device = 'cuda'\n",
    "linop = Ptychography(n_img=img_count,probe_radius=32,fov=170, device=device,max_scale=9)"
   ]
  },
  {
   "cell_type": "code",
   "execution_count": null,
   "metadata": {},
   "outputs": [],
   "source": [
    "import numpy as np\n",
    "\n",
    "def construct_probe(shape, probe_radius=10):\n",
    "    \"\"\"\n",
    "    Constructs a 2D probe with a specified radius.\n",
    "\n",
    "    Parameters:\n",
    "    - shape (tuple): Shape of the 2D array (height, width).\n",
    "    - probe_radius (int): Radius of the probe (size of the square region to set to 1).\n",
    "\n",
    "    Returns:\n",
    "    - probe (numpy array): A 2D array with a square probe of ones at the center.\n",
    "    \"\"\"\n",
    "    probe = np.zeros(shape)\n",
    "    center_x, center_y = shape[0] // 2, shape[1] // 2\n",
    "    start_x, end_x = center_x - probe_radius // 2, center_x + probe_radius // 2\n",
    "    start_y, end_y = center_y - probe_radius // 2, center_y + probe_radius // 2\n",
    "    probe[start_x:end_x, start_y:end_y] = 1\n",
    "    return probe"
   ]
  },
  {
   "cell_type": "code",
   "execution_count": null,
   "metadata": {},
   "outputs": [],
   "source": [
    "shape = (512,512)\n",
    "probe_radius = 128\n",
    "probe = construct_probe(shape, probe_radius)"
   ]
  },
  {
   "cell_type": "code",
   "execution_count": null,
   "metadata": {},
   "outputs": [],
   "source": [
    "import matplotlib.pyplot as plt\n",
    "plt.figure()\n",
    "plt.imshow(a)"
   ]
  },
  {
   "cell_type": "code",
   "execution_count": null,
   "metadata": {},
   "outputs": [],
   "source": [
    "# 0 - 255 \n",
    "# 256 - 511\n",
    "# 192 - 255\n",
    "# 256 - 319"
   ]
  },
  {
   "cell_type": "code",
   "execution_count": null,
   "metadata": {},
   "outputs": [],
   "source": [
    "def generate_shifts(in_size, shift_amount):\n",
    "    \"\"\"\n",
    "    Generates shifts for scanning based on the input size and shift amount.\n",
    "\n",
    "    Parameters:\n",
    "    - in_size (int): The size of the input image or region (assumes square region for simplicity).\n",
    "    - shift_amount (int): Distance between consecutive shifts.\n",
    "\n",
    "    Returns:\n",
    "    - shifts (numpy array): Array of 2D shifts (vertical and horizontal).\n",
    "    \"\"\"\n",
    "    # Calculate the range of shifts based on input size\n",
    "    half_size = in_size // 2  # Half of the input size to define the range\n",
    "    n_shifts = (2 * half_size // shift_amount) + 1  # Number of shifts along one axis\n",
    "\n",
    "    # Generate shift values using linspace\n",
    "    shifts = np.linspace(-half_size, half_size, n_shifts).astype(int)\n",
    "\n",
    "    # Create a 2D grid of shifts\n",
    "    shifts_h, shifts_v = np.meshgrid(shifts, shifts, indexing='ij')\n",
    "\n",
    "    # Combine horizontal and vertical shifts into a single array\n",
    "    return np.concatenate([shifts_v.reshape(-1, 1), shifts_h.reshape(-1, 1)], axis=1)"
   ]
  },
  {
   "cell_type": "code",
   "execution_count": null,
   "metadata": {},
   "outputs": [],
   "source": [
    "shifts = generate_shifts(512, 32)"
   ]
  },
  {
   "cell_type": "code",
   "execution_count": null,
   "metadata": {},
   "outputs": [],
   "source": [
    "shifts"
   ]
  },
  {
   "cell_type": "code",
   "execution_count": null,
   "metadata": {},
   "outputs": [],
   "source": [
    "base_matrix = np.array([[1,2,3],[4,5,6],[7,8,9]])\n"
   ]
  },
  {
   "cell_type": "code",
   "execution_count": null,
   "metadata": {},
   "outputs": [],
   "source": [
    "import torch\n",
    "def create_shared_matrix(base_matrix, n):\n",
    "        \"\"\"\n",
    "        Creates an mn x mn matrix consisting of n x n copies of the base m x m matrix.\n",
    "        \n",
    "        Parameters:\n",
    "        - base_matrix (torch.Tensor): An m x m matrix of differentiable parameters.\n",
    "        - n (int): Number of times the base matrix is repeated along each dimension.\n",
    "\n",
    "        Returns:\n",
    "        - shared_matrix (torch.Tensor): A new mn x mn matrix with shared parameters.\n",
    "        \"\"\"\n",
    "        # Ensure base_matrix is a 2D tensor\n",
    "        m = base_matrix.size(0)  # Base matrix size (assume square matrix m x m)\n",
    "        assert base_matrix.size(1) == m, \"Base matrix must be square.\"\n",
    "\n",
    "        # Create the larger matrix with shared copies\n",
    "        shared_matrix = torch.cat([torch.cat([base_matrix for _ in range(n)], dim=1) for _ in range(n)], dim=0)\n",
    "        return shared_matrix\n"
   ]
  },
  {
   "cell_type": "code",
   "execution_count": null,
   "metadata": {},
   "outputs": [],
   "source": [
    "matx = create_shared_matrix(torch.tensor(base_matrix), 3)"
   ]
  },
  {
   "cell_type": "code",
   "execution_count": null,
   "metadata": {},
   "outputs": [],
   "source": [
    "matx"
   ]
  },
  {
   "cell_type": "code",
   "execution_count": null,
   "metadata": {},
   "outputs": [],
   "source": []
  }
 ],
 "metadata": {
  "kernelspec": {
   "display_name": ".venv",
   "language": "python",
   "name": "python3"
  },
  "language_info": {
   "codemirror_mode": {
    "name": "ipython",
    "version": 3
   },
   "file_extension": ".py",
   "mimetype": "text/x-python",
   "name": "python",
   "nbconvert_exporter": "python",
   "pygments_lexer": "ipython3",
   "version": "3.8.10"
  }
 },
 "nbformat": 4,
 "nbformat_minor": 2
}
