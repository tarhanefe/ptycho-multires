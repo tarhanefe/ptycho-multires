{
 "cells": [
  {
   "cell_type": "code",
   "execution_count": 1,
   "metadata": {},
   "outputs": [
    {
     "name": "stderr",
     "output_type": "stream",
     "text": [
      "/home/efe/Desktop/Multiresolution-Framework-for-Fourier-Ptychography/.venv/lib/python3.8/site-packages/tqdm/auto.py:21: TqdmWarning: IProgress not found. Please update jupyter and ipywidgets. See https://ipywidgets.readthedocs.io/en/stable/user_install.html\n",
      "  from .autonotebook import tqdm as notebook_tqdm\n"
     ]
    }
   ],
   "source": [
    "import os \n",
    "os.chdir(\"..\")\n",
    "os.chdir(\"..\")\n",
    "from src.cpwc.multires.class_multiressolver import *\n",
    "import matplotlib.pyplot as plt\n",
    "import torch\n",
    "from src.cpwc.tools.ptychography import Ptychography as Ptychography\n",
    "from src.cpwc.tools.utils import *\n",
    "torch.cuda.empty_cache()\n",
    "from src.utils.cuda_pyth import empty_cuda, print_cuda_tensors\n",
    "from src.utils.get_image import get_image\n",
    "from src.utils.noise import add_gaussian_noise, add_poisson_noise\n",
    "from src.utils.metrics import get_ring_average, F2fluxconverter\n",
    "from src.utils.manage_data import save_data,unwrap_2d,extract_data\n",
    "# Set seeds \n",
    "torch.manual_seed(0)\n",
    "np.random.seed(0)\n",
    "\n",
    "device = \"cuda\" if torch.cuda.is_available() else \"cpu\"\n",
    "max_scale = 9\n",
    "image,image_tensor_ = get_image(\"samples/potential.npy\", max_scale,device)\n",
    "max_probe_size = 128\n",
    "cycle = [0, -1, -1, -1,  1, 1, 1]\n",
    "tol = [1e-10] * 9\n",
    "tol_in = [1e-15] * 9\n"
   ]
  },
  {
   "cell_type": "code",
   "execution_count": null,
   "metadata": {},
   "outputs": [],
   "source": [
    "F = [1e-6,1e-5,1e-4,1e-3,1e-2,1e-1,1,10,100,1000,10000,100000]\n",
    "flux = np.array([F2fluxconverter(F_) for F_ in F])\n",
    "plt.plot(flux,F)\n",
    "plt.xscale(\"log\")\n",
    "plt.yscale(\"log\")\n",
    "plt.grid()\n",
    "plt.xlabel(\"flux\")\n",
    "plt.ylabel(\"F\")\n",
    "plt.title(\"Flux vs F\")\n",
    "plt.show()\n"
   ]
  },
  {
   "cell_type": "code",
   "execution_count": null,
   "metadata": {},
   "outputs": [
    {
     "name": "stdout",
     "output_type": "stream",
     "text": [
      "----------- s = 9 -----------\n",
      "----------- s = 8 -----------\n",
      "----------- s = 7 -----------\n",
      "----------- s = 6 -----------\n"
     ]
    },
    {
     "ename": "KeyboardInterrupt",
     "evalue": "",
     "output_type": "error",
     "traceback": [
      "\u001b[0;31m---------------------------------------------------------------------------\u001b[0m",
      "\u001b[0;31mKeyboardInterrupt\u001b[0m                         Traceback (most recent call last)",
      "Cell \u001b[0;32mIn[3], line 22\u001b[0m\n\u001b[1;32m     11\u001b[0m loss \u001b[38;5;241m=\u001b[39m Loss(linOperator,image_tensor__,lmbda\u001b[38;5;241m=\u001b[39m lmbda)\n\u001b[1;32m     12\u001b[0m model \u001b[38;5;241m=\u001b[39m MultiResSolver(multires, \n\u001b[1;32m     13\u001b[0m                         loss, \n\u001b[1;32m     14\u001b[0m                         LR \u001b[38;5;241m=\u001b[39m LR,\n\u001b[0;32m   (...)\u001b[0m\n\u001b[1;32m     20\u001b[0m                         l1_type \u001b[38;5;241m=\u001b[39m \u001b[38;5;124m\"\u001b[39m\u001b[38;5;124ml1_row\u001b[39m\u001b[38;5;124m\"\u001b[39m,\n\u001b[1;32m     21\u001b[0m                         gt \u001b[38;5;241m=\u001b[39m image_tensor_)\n\u001b[0;32m---> 22\u001b[0m \u001b[43mmodel\u001b[49m\u001b[38;5;241;43m.\u001b[39;49m\u001b[43msolve_multigrid\u001b[49m\u001b[43m(\u001b[49m\u001b[43m)\u001b[49m\n\u001b[1;32m     23\u001b[0m model\u001b[38;5;241m.\u001b[39mprint_time()\n",
      "File \u001b[0;32m~/Desktop/Multiresolution-Framework-for-Fourier-Ptychography/src/cpwc/multires/class_multiressolver.py:181\u001b[0m, in \u001b[0;36mMultiResSolver.solve_multigrid\u001b[0;34m(self)\u001b[0m\n\u001b[1;32m    178\u001b[0m     \u001b[38;5;28mself\u001b[39m\u001b[38;5;241m.\u001b[39mloc[\u001b[38;5;124m\"\u001b[39m\u001b[38;5;124md_k\u001b[39m\u001b[38;5;124m\"\u001b[39m] \u001b[38;5;241m=\u001b[39m F\u001b[38;5;241m.\u001b[39mup(\u001b[38;5;28mself\u001b[39m\u001b[38;5;241m.\u001b[39msols[s \u001b[38;5;241m-\u001b[39m \u001b[38;5;241m2\u001b[39m])\n\u001b[1;32m    180\u001b[0m \u001b[38;5;28mprint\u001b[39m(\u001b[38;5;124m'\u001b[39m\u001b[38;5;124m----------- s = \u001b[39m\u001b[38;5;124m'\u001b[39m \u001b[38;5;241m+\u001b[39m \u001b[38;5;28mstr\u001b[39m(multires\u001b[38;5;241m.\u001b[39mloc[\u001b[38;5;124m\"\u001b[39m\u001b[38;5;124ms\u001b[39m\u001b[38;5;124m\"\u001b[39m]) \u001b[38;5;241m+\u001b[39m \u001b[38;5;124m'\u001b[39m\u001b[38;5;124m -----------\u001b[39m\u001b[38;5;124m'\u001b[39m )\n\u001b[0;32m--> 181\u001b[0m \u001b[38;5;28;43mself\u001b[39;49m\u001b[38;5;241;43m.\u001b[39;49m\u001b[43msolve_scale\u001b[49m\u001b[43m(\u001b[49m\u001b[43m)\u001b[49m\n\u001b[1;32m    182\u001b[0m \u001b[38;5;28mself\u001b[39m\u001b[38;5;241m.\u001b[39mfinal_sols\u001b[38;5;241m.\u001b[39mappend(\u001b[38;5;28mself\u001b[39m\u001b[38;5;241m.\u001b[39msols[s \u001b[38;5;241m-\u001b[39m \u001b[38;5;241m1\u001b[39m])\n",
      "File \u001b[0;32m~/Desktop/Multiresolution-Framework-for-Fourier-Ptychography/src/cpwc/multires/class_multiressolver.py:151\u001b[0m, in \u001b[0;36mMultiResSolver.solve_scale\u001b[0;34m(self)\u001b[0m\n\u001b[1;32m    149\u001b[0m \u001b[38;5;28mself\u001b[39m\u001b[38;5;241m.\u001b[39mlr_list\u001b[38;5;241m.\u001b[39mappend(\u001b[38;5;28mself\u001b[39m\u001b[38;5;241m.\u001b[39mLR)\n\u001b[1;32m    150\u001b[0m inner_prox \u001b[38;5;241m=\u001b[39m d_k \u001b[38;5;241m-\u001b[39m \u001b[38;5;28mself\u001b[39m\u001b[38;5;241m.\u001b[39mcalc_grad(d_k) \u001b[38;5;241m*\u001b[39m (\u001b[38;5;28mself\u001b[39m\u001b[38;5;241m.\u001b[39mLR)\n\u001b[0;32m--> 151\u001b[0m c_kp1 \u001b[38;5;241m=\u001b[39m \u001b[43mreg\u001b[49m\u001b[38;5;241;43m.\u001b[39;49m\u001b[43mgrad\u001b[49m\u001b[43m(\u001b[49m\u001b[43my\u001b[49m\u001b[38;5;241;43m=\u001b[39;49m\u001b[43minner_prox\u001b[49m\u001b[43m,\u001b[49m\n\u001b[1;32m    152\u001b[0m \u001b[43m                 \u001b[49m\u001b[43miter_in\u001b[49m\u001b[38;5;241;43m=\u001b[39;49m\u001b[38;5;28;43mself\u001b[39;49m\u001b[38;5;241;43m.\u001b[39;49m\u001b[43mcycle\u001b[49m\u001b[43m[\u001b[49m\u001b[38;5;124;43m\"\u001b[39;49m\u001b[38;5;124;43mI_in\u001b[39;49m\u001b[38;5;124;43m\"\u001b[39;49m\u001b[43m]\u001b[49m\u001b[43m[\u001b[49m\u001b[43mg\u001b[49m\u001b[43m]\u001b[49m\u001b[43m,\u001b[49m\n\u001b[1;32m    153\u001b[0m \u001b[43m                 \u001b[49m\u001b[43mlmbda\u001b[49m\u001b[38;5;241;43m=\u001b[39;49m\u001b[43mloss\u001b[49m\u001b[38;5;241;43m.\u001b[39;49m\u001b[43mlmbda\u001b[49m\u001b[43m,\u001b[49m\n\u001b[1;32m    154\u001b[0m \u001b[43m                 \u001b[49m\u001b[43mtau\u001b[49m\u001b[43m \u001b[49m\u001b[38;5;241;43m=\u001b[39;49m\u001b[43m \u001b[49m\u001b[38;5;28;43mself\u001b[39;49m\u001b[38;5;241;43m.\u001b[39;49m\u001b[43mLR\u001b[49m\u001b[43m,\u001b[49m\n\u001b[1;32m    155\u001b[0m \u001b[43m                 \u001b[49m\u001b[43mtoi\u001b[49m\u001b[38;5;241;43m=\u001b[39;49m\u001b[38;5;28;43mself\u001b[39;49m\u001b[38;5;241;43m.\u001b[39;49m\u001b[43mcycle\u001b[49m\u001b[43m[\u001b[49m\u001b[38;5;124;43m\"\u001b[39;49m\u001b[38;5;124;43mtol_in\u001b[39;49m\u001b[38;5;124;43m\"\u001b[39;49m\u001b[43m]\u001b[49m\u001b[43m[\u001b[49m\u001b[43mg\u001b[49m\u001b[43m]\u001b[49m\u001b[43m)\u001b[49m            \u001b[38;5;66;03m#if (self.loss.calc_loss(self.c_k) < 0.9*self.loss.calc_loss(c_kp1)):\u001b[39;00m\n\u001b[1;32m    156\u001b[0m \u001b[38;5;28mself\u001b[39m\u001b[38;5;241m.\u001b[39mup_measures(\u001b[38;5;28mself\u001b[39m\u001b[38;5;241m.\u001b[39mc_k, c_kp1)  \u001b[38;5;66;03m# Update tracking measures\u001b[39;00m\n\u001b[1;32m    157\u001b[0m \u001b[38;5;28mself\u001b[39m\u001b[38;5;241m.\u001b[39mc_k, d_k, t_k \u001b[38;5;241m=\u001b[39m fista_fast(t_k, c_kp1, \u001b[38;5;28mself\u001b[39m\u001b[38;5;241m.\u001b[39mc_k)  \u001b[38;5;66;03m# Perform FISTA update\u001b[39;00m\n",
      "File \u001b[0;32m~/Desktop/Multiresolution-Framework-for-Fourier-Ptychography/src/cpwc/multires/class_htv.py:75\u001b[0m, in \u001b[0;36mHTV.grad\u001b[0;34m(reg, y, iter_in, lmbda, tau, toi)\u001b[0m\n\u001b[1;32m     72\u001b[0m error \u001b[38;5;241m=\u001b[39m torch\u001b[38;5;241m.\u001b[39minf\n\u001b[1;32m     73\u001b[0m \u001b[38;5;28;01mwhile\u001b[39;00m n \u001b[38;5;241m<\u001b[39m iter_in \u001b[38;5;129;01mand\u001b[39;00m \u001b[38;5;28mabs\u001b[39m(error) \u001b[38;5;241m>\u001b[39m toi:\n\u001b[0;32m---> 75\u001b[0m     Lpc \u001b[38;5;241m=\u001b[39m \u001b[38;5;241m-\u001b[39m\u001b[43mreg\u001b[49m\u001b[38;5;241;43m.\u001b[39;49m\u001b[43mL\u001b[49m\u001b[43m(\u001b[49m\u001b[43my\u001b[49m\u001b[43m \u001b[49m\u001b[38;5;241;43m-\u001b[39;49m\u001b[43m \u001b[49m\u001b[43mreg\u001b[49m\u001b[38;5;241;43m.\u001b[39;49m\u001b[43mLt\u001b[49m\u001b[43m(\u001b[49m\u001b[43mv_k\u001b[49m\u001b[43m)\u001b[49m\u001b[43m)\u001b[49m\n\u001b[1;32m     76\u001b[0m     u_kp1 \u001b[38;5;241m=\u001b[39m complex_clamp(v_k \u001b[38;5;241m-\u001b[39m alpha \u001b[38;5;241m*\u001b[39m Lpc, \u001b[38;5;241m-\u001b[39mlmbda \u001b[38;5;241m*\u001b[39m tau, lmbda \u001b[38;5;241m*\u001b[39m tau)\n\u001b[1;32m     78\u001b[0m     error \u001b[38;5;241m=\u001b[39m calc_error(u_k, u_kp1, norm1\u001b[38;5;241m=\u001b[39mloss_)\n",
      "File \u001b[0;32m~/Desktop/Multiresolution-Framework-for-Fourier-Ptychography/src/cpwc/multires/class_htv.py:28\u001b[0m, in \u001b[0;36mHTV.L\u001b[0;34m(reg, x)\u001b[0m\n\u001b[1;32m     26\u001b[0m Lx1 \u001b[38;5;241m=\u001b[39m cmpx_conv2d(cmpx_pad(x, (\u001b[38;5;241m0\u001b[39m, \u001b[38;5;241m1\u001b[39m, \u001b[38;5;241m0\u001b[39m, \u001b[38;5;241m1\u001b[39m)), reg\u001b[38;5;241m.\u001b[39mf1)\n\u001b[1;32m     27\u001b[0m \u001b[38;5;66;03m# f2: pad (1, 1, 0, 1) to get horizontal sum=2 and vertical sum=1\u001b[39;00m\n\u001b[0;32m---> 28\u001b[0m Lx2 \u001b[38;5;241m=\u001b[39m cmpx_conv2d(\u001b[43mcmpx_pad\u001b[49m\u001b[43m(\u001b[49m\u001b[43mx\u001b[49m\u001b[43m,\u001b[49m\u001b[43m \u001b[49m\u001b[43m(\u001b[49m\u001b[38;5;241;43m0\u001b[39;49m\u001b[43m,\u001b[49m\u001b[43m \u001b[49m\u001b[38;5;241;43m0\u001b[39;49m\u001b[43m,\u001b[49m\u001b[43m \u001b[49m\u001b[38;5;241;43m0\u001b[39;49m\u001b[43m,\u001b[49m\u001b[43m \u001b[49m\u001b[38;5;241;43m1\u001b[39;49m\u001b[43m)\u001b[49m\u001b[43m)\u001b[49m, reg\u001b[38;5;241m.\u001b[39mf2)\n\u001b[1;32m     29\u001b[0m \u001b[38;5;66;03m# f3: pad (0, 1, 1, 1) to get horizontal sum=1 and vertical sum=2\u001b[39;00m\n\u001b[1;32m     30\u001b[0m Lx3 \u001b[38;5;241m=\u001b[39m cmpx_conv2d(cmpx_pad(x, (\u001b[38;5;241m0\u001b[39m, \u001b[38;5;241m1\u001b[39m, \u001b[38;5;241m0\u001b[39m, \u001b[38;5;241m0\u001b[39m)), reg\u001b[38;5;241m.\u001b[39mf3)\n",
      "File \u001b[0;32m~/Desktop/Multiresolution-Framework-for-Fourier-Ptychography/src/cpwc/tools/utils.py:132\u001b[0m, in \u001b[0;36mcmpx_pad\u001b[0;34m(input, pad)\u001b[0m\n\u001b[1;32m    130\u001b[0m imag_input \u001b[38;5;241m=\u001b[39m \u001b[38;5;28minput\u001b[39m\u001b[38;5;241m.\u001b[39mimag\n\u001b[1;32m    131\u001b[0m re_output \u001b[38;5;241m=\u001b[39m F\u001b[38;5;241m.\u001b[39mpad(re_input, pad)\n\u001b[0;32m--> 132\u001b[0m imag_output \u001b[38;5;241m=\u001b[39m \u001b[43mF\u001b[49m\u001b[38;5;241;43m.\u001b[39;49m\u001b[43mpad\u001b[49m\u001b[43m(\u001b[49m\u001b[43mimag_input\u001b[49m\u001b[43m,\u001b[49m\u001b[43m \u001b[49m\u001b[43mpad\u001b[49m\u001b[43m)\u001b[49m\n\u001b[1;32m    133\u001b[0m \u001b[38;5;28;01mreturn\u001b[39;00m torch\u001b[38;5;241m.\u001b[39mview_as_complex(torch\u001b[38;5;241m.\u001b[39mstack([re_output, imag_output], dim\u001b[38;5;241m=\u001b[39m\u001b[38;5;241m-\u001b[39m\u001b[38;5;241m1\u001b[39m))\n",
      "\u001b[0;31mKeyboardInterrupt\u001b[0m: "
     ]
    }
   ],
   "source": [
    "LR = 1e-2\n",
    "max_shift = 64\n",
    "I_in = 25*np.array([1, 15, 10, 5, 10, 30, 100])\n",
    "I_out = 10*np.array([0, 0, 0, 30, 10,10,300])\n",
    "lmbda = 1e-9\n",
    "noise = 1e9\n",
    "linOperator = Ptychography(max_scale = max_scale,max_probe_size = max_probe_size ,max_shift = max_shift,device=device)\n",
    "multires = MultiRes(max_scale, device)\n",
    "image_tensor__ = linOperator.apply(image_tensor_)\n",
    "image_tensor__ = add_poisson_noise(image_tensor__, noise, 'cuda')\n",
    "loss = Loss(linOperator,image_tensor__,lmbda= lmbda)\n",
    "model = MultiResSolver(multires, \n",
    "                        loss, \n",
    "                        LR = LR,\n",
    "                        I_in = I_in,\n",
    "                        I_out = I_out,\n",
    "                        tol = tol,\n",
    "                        tol_in = tol_in,\n",
    "                        cycle = cycle,\n",
    "                        l1_type = \"l1_row\",\n",
    "                        gt = image_tensor_)\n",
    "model.solve_multigrid()\n",
    "model.print_time()\n",
    "\n"
   ]
  },
  {
   "cell_type": "code",
   "execution_count": null,
   "metadata": {},
   "outputs": [],
   "source": [
    "if max_shift == 32:\n",
    "    overlap = 75\n",
    "elif max_shift == 64:\n",
    "    overlap = 50\n",
    "else:\n",
    "    overlap = 25\n",
    "from src.utils.manage_data import save_data,unwrap_2d,extract_data\n",
    "path = save_data(model = model,\n",
    "          image_path= \"samples/potential.npy\",\n",
    "          metrics = ['csim','loss','frc',\"image\"],\n",
    "          device = \"cuda\",\n",
    "          max_scale = 9,\n",
    "          overlap = overlap,\n",
    "          spline_type=\"cpwc\",\n",
    "          lambda_ = lmbda,\n",
    "          noise_type=\"poisson\",\n",
    "          noise = noise,\n",
    "          loop = \"mrgd\")"
   ]
  },
  {
   "cell_type": "code",
   "execution_count": null,
   "metadata": {},
   "outputs": [],
   "source": [
    "image = np.load(path + \"_image.npy\")"
   ]
  },
  {
   "cell_type": "code",
   "execution_count": null,
   "metadata": {},
   "outputs": [],
   "source": [
    "plt.imshow(image)\n",
    "plt.axis(\"off\")"
   ]
  },
  {
   "cell_type": "code",
   "execution_count": null,
   "metadata": {},
   "outputs": [],
   "source": [
    "\n",
    "frc = np.load(path + \"_frc.npy\")"
   ]
  },
  {
   "cell_type": "code",
   "execution_count": null,
   "metadata": {},
   "outputs": [],
   "source": [
    "plt.figure(dpi = 200)\n",
    "plt.plot(frc)\n",
    "plt.grid()"
   ]
  },
  {
   "cell_type": "code",
   "execution_count": null,
   "metadata": {},
   "outputs": [],
   "source": [
    "frc1 = np.load(\"data/cpwc_overlap50_mrgd_lambda1e-09_noise_typepoisson_noise10.0_frc.npy\")\n",
    "frc2 = np.load(\"data/cpwc_overlap50_mrgd_lambda0.0001_noise_typepoisson_noise10.0_frc.npy\")\n",
    "frc3 = np.load(\"data/cpwc_overlap50_mrgd_lambda0.001_noise_typepoisson_noise10.0_frc.npy\")\n",
    "frc4 = np.load(\"data/cpwc_overlap50_mrgd_lambda0.01_noise_typepoisson_noise10.0_frc.npy\")\n",
    "frc5 = np.load(\"data/cpwc_overlap50_mrgd_lambda0.1_noise_typepoisson_noise10.0_frc.npy\")\n",
    "fourier_k_range = np.fft.fftfreq(512) / 0.25\n",
    "fourier_k_range = fourier_k_range[0:256] * 10 \n",
    "plt.figure(dpi = 300,figsize=(14,10))\n",
    "plt.plot(fourier_k_range,frc1)\n",
    "plt.plot(fourier_k_range,frc2)\n",
    "plt.plot(fourier_k_range,frc3)\n",
    "plt.plot(fourier_k_range,frc4)\n",
    "plt.plot(fourier_k_range,frc5)\n",
    "plt.grid()\n",
    "plt.legend([\"Overlap 50 w/ Noise 1e1 lambda = 1e-9\",\n",
    "            \"Overlap 50 w/ Noise 1e1 lambda = 1e-4\",\n",
    "            \"Overlap 50 w/ Noise 1e1 lambda = 1e-3\",\n",
    "            \"Overlap 50 w/ Noise 1e1 lambda = 1e-2\",\n",
    "            \"Overlap 50 w/ Noise 1e1 lambda = 1e-1\"])\n",
    "plt.title(\"FRC\")\n",
    "plt.xlabel(\"Dist From Center (nm^-1)\")\n",
    "plt.ylabel(\"Fourier Ring Correlation\")\n",
    "plt.show()\n"
   ]
  },
  {
   "cell_type": "code",
   "execution_count": null,
   "metadata": {},
   "outputs": [],
   "source": [
    "img1 = np.load(\"data/cpwc_overlap50_mrgd_lambda1e-09_noise_typepoisson_noise10.0_image.npy\")\n",
    "img2 = np.load(\"data/cpwc_overlap50_mrgd_lambda0.0001_noise_typepoisson_noise10.0_image.npy\")\n",
    "img3 = np.load(\"data/cpwc_overlap50_mrgd_lambda0.001_noise_typepoisson_noise10.0_image.npy\")\n",
    "img4 = np.load(\"data/cpwc_overlap50_mrgd_lambda0.01_noise_typepoisson_noise10.0_image.npy\")\n",
    "img5 = np.load(\"data/cpwc_overlap50_mrgd_lambda0.1_noise_typepoisson_noise10.0_image.npy\")\n",
    "plt.figure(dpi = 300,figsize=(14,10))\n",
    "plt.subplot(2,3,1)\n",
    "plt.imshow(img1, cmap = \"gray\")\n",
    "plt.axis(\"off\")\n",
    "plt.title(\"Overlap 50 w/ Noise 1e1 lambda = 1e-9\")\n",
    "plt.subplot(2,3,2)\n",
    "plt.imshow(img2, cmap = \"gray\")\n",
    "plt.axis(\"off\")\n",
    "plt.title(\"Overlap 50 w/ Noise 1e1 lambda = 1e-4\")\n",
    "plt.subplot(2,3,3)\n",
    "plt.imshow(img3, cmap = \"gray\")\n",
    "plt.axis(\"off\")\n",
    "plt.title(\"Overlap 50 w/ Noise 1e1 lambda = 1e-3\")\n",
    "plt.subplot(2,3,4)\n",
    "plt.imshow(img4, cmap = \"gray\")\n",
    "plt.axis(\"off\")\n",
    "plt.title(\"Overlap 50 w/ Noise 1e1 lambda = 1e-2\")\n",
    "plt.subplot(2,3,5)\n",
    "plt.imshow(img5, cmap = \"gray\")\n",
    "plt.axis(\"off\")\n",
    "plt.title(\"Overlap 50 w/ Noise 1e1 lambda = 1e-1\")\n",
    "plt.tight_layout()\n",
    "plt.show()\n"
   ]
  },
  {
   "cell_type": "code",
   "execution_count": null,
   "metadata": {},
   "outputs": [],
   "source": [
    "csim1 = np.load(\"data/cpwc_overlap50_mrgd_lambda1e-09_noise_typepoisson_noise10.0_csim.npy\")\n",
    "csim2 = np.load(\"data/cpwc_overlap50_mrgd_lambda0.0001_noise_typepoisson_noise10.0_csim.npy\")\n",
    "csim3 = np.load(\"data/cpwc_overlap50_mrgd_lambda0.001_noise_typepoisson_noise10.0_csim.npy\")\n",
    "csim4 = np.load(\"data/cpwc_overlap50_mrgd_lambda0.01_noise_typepoisson_noise10.0_csim.npy\")\n",
    "csim5 = np.load(\"data/cpwc_overlap50_mrgd_lambda0.1_noise_typepoisson_noise10.0_csim.npy\")\n",
    "\n",
    "plt.figure(dpi = 300,figsize=(14,10))\n",
    "plt.semilogy(1-csim1)\n",
    "plt.semilogy(1-csim2)\n",
    "plt.semilogy(1-csim3)\n",
    "plt.semilogy(1-csim4)\n",
    "plt.semilogy(1-csim5)\n",
    "plt.grid()\n",
    "plt.legend([\"Overlap 50 w/ Noise 1e1 lambda = 1e-9\",\n",
    "            \"Overlap 50 w/ Noise 1e1 lambda = 1e-4\",\n",
    "            \"Overlap 50 w/ Noise 1e1 lambda = 1e-3\",\n",
    "            \"Overlap 50 w/ Noise 1e1 lambda = 1e-2\",\n",
    "            \"Overlap 50 w/ Noise 1e1 lambda = 1e-1\"])\n",
    "plt.title(\"1 - Cosine Similarity\")\n",
    "plt.xlabel(\"Iterations\")\n",
    "plt.ylabel(\"Cosine Similarity\")\n",
    "plt.show()\n"
   ]
  },
  {
   "cell_type": "code",
   "execution_count": null,
   "metadata": {},
   "outputs": [],
   "source": []
  }
 ],
 "metadata": {
  "kernelspec": {
   "display_name": ".venv",
   "language": "python",
   "name": "python3"
  },
  "language_info": {
   "codemirror_mode": {
    "name": "ipython",
    "version": 3
   },
   "file_extension": ".py",
   "mimetype": "text/x-python",
   "name": "python",
   "nbconvert_exporter": "python",
   "pygments_lexer": "ipython3",
   "version": "3.8.10"
  }
 },
 "nbformat": 4,
 "nbformat_minor": 2
}
