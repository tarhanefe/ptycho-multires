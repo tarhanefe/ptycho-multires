{
 "cells": [
  {
   "cell_type": "markdown",
   "metadata": {},
   "source": [
    "Try different learning rates for GD vs MRGD\n",
    "\n",
    "* Use cosine similarity as metric\n"
   ]
  },
  {
   "cell_type": "code",
   "execution_count": null,
   "metadata": {},
   "outputs": [],
   "source": [
    "import os \n",
    "os.chdir(\"..\")\n",
    "os.chdir(\"..\")\n",
    "from src.cpwc.multires.class_multiresolver_pie import *\n",
    "import matplotlib.pyplot as plt\n",
    "import torch\n",
    "from src.cpwc.tools.ptychography import Ptychography as Ptychography\n",
    "from src.cpwc.tools.utils import *\n",
    "torch.cuda.empty_cache()\n",
    "from src.utils.cuda_pyth import empty_cuda, print_cuda_tensors\n",
    "from src.utils.get_image import get_image\n",
    "from src.utils.noise import add_gaussian_noise, add_poisson_noise\n",
    "from src.utils.metrics import get_ring_average, F2fluxconverter\n",
    "from src.utils.manage_data import save_data,unwrap_2d,extract_data\n",
    "# Set seeds \n",
    "torch.manual_seed(0)\n",
    "np.random.seed(0)\n",
    "\n",
    "device = \"cuda\" if torch.cuda.is_available() else \"cpu\"\n",
    "max_scale = 9\n",
    "image,image_tensor_ = get_image(\"samples/potential.npy\", max_scale,device)\n",
    "max_probe_size = 64\n",
    "cycle = [0, -1, -1, -1,  1, 1, 1]\n",
    "tol = [1e-10] * 9\n",
    "tol_in = [1e-15] * 9\n",
    "max_shift = 32\n",
    "lmbda = 1e-30\n",
    "noise = 1e100\n",
    "linOperator = Ptychography(max_scale = max_scale,max_probe_size = max_probe_size ,max_shift = max_shift,device=device)\n",
    "multires = MultiRes(max_scale, device)\n",
    "image_tensor__ = linOperator.apply(image_tensor_)\n",
    "#image_tensor__ = add_poisson_noise(image_tensor__, noise, 'cuda')\n",
    "loss = Loss(linOperator,image_tensor__,lmbda= lmbda)\n",
    "I_in = 25*np.array([1, 15, 10, 5, 10, 30, 100])\n",
    "LR_list = [0,0,0,2e-2,3e-2,5e-2,1e-1] # Currently Liepschitz is used - this is not being used"
   ]
  },
  {
   "cell_type": "code",
   "execution_count": null,
   "metadata": {},
   "outputs": [],
   "source": [
    "type_alg = \"gd\"  # \"gd\" or \"mrgd\"\n",
    "if type_alg == \"gd\":\n",
    "    I_out = 10*np.array([0, 0, 0, 0, 0,0,80])\n",
    "elif type_alg == \"mrgd\":\n",
    "    I_out =10*np.array([0, 0, 0, 8, 5,5,62])\n",
    "\n",
    "model = MultiResSolver(multires, \n",
    "                        loss, \n",
    "                        LR = LR_list,\n",
    "                        I_in = I_in,\n",
    "                        I_out = I_out,\n",
    "                        tol = tol,\n",
    "                        tol_in = tol_in,\n",
    "                        cycle = cycle,\n",
    "                        l1_type = \"l1_row\",\n",
    "                        gt = image_tensor_,\n",
    "                        scaler = 16,\n",
    "                        early_stopping=9,\n",
    "                        tol_vals= [5, 0 ,1500],)\n",
    "model.solve_multigrid()\n",
    "model.print_time()\n"
   ]
  },
  {
   "cell_type": "code",
   "execution_count": null,
   "metadata": {},
   "outputs": [],
   "source": [
    "# Part for visualizing the loss\n",
    "\n",
    "loss  = extract_data(model.measures[\"loss\"])\n",
    "np.save(\"loss_pie.npy\", loss)\n",
    "plt.figure(figsize=(10, 6),dpi =300)\n",
    "plt.semilogy(np.cumsum(model.iter_times),loss[:len(model.iter_times)])\n",
    "plt.xlabel(\"Time (s)\")\n",
    "plt.ylabel(\"Loss\")\n",
    "plt.title(\"Loss vs Time\")\n",
    "plt.grid()\n",
    "plt.show()"
   ]
  },
  {
   "cell_type": "code",
   "execution_count": null,
   "metadata": {},
   "outputs": [],
   "source": [
    "# Part for visualizing the reconstructed image\n",
    "\n",
    "mean_img = np.mean(image)\n",
    "phase = torch.angle(model.c_k[0,0,:,:].to('cpu'))\n",
    "phase = phase.numpy()\n",
    "phase = unwrap_2d(phase)\n",
    "plt.imshow(phase, cmap='gray')"
   ]
  }
 ],
 "metadata": {
  "kernelspec": {
   "display_name": ".venv",
   "language": "python",
   "name": "python3"
  },
  "language_info": {
   "codemirror_mode": {
    "name": "ipython",
    "version": 3
   },
   "file_extension": ".py",
   "mimetype": "text/x-python",
   "name": "python",
   "nbconvert_exporter": "python",
   "pygments_lexer": "ipython3",
   "version": "3.8.10"
  }
 },
 "nbformat": 4,
 "nbformat_minor": 2
}
