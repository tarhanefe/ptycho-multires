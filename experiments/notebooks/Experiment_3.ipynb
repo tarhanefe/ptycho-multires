{
 "cells": [
  {
   "cell_type": "markdown",
   "metadata": {},
   "source": [
    "Try different learning rates for GD vs MRGD\n",
    "\n",
    "* Use cosine similarity as metric\n"
   ]
  },
  {
   "cell_type": "code",
   "execution_count": 1,
   "metadata": {},
   "outputs": [
    {
     "name": "stderr",
     "output_type": "stream",
     "text": [
      "/home/efe/Desktop/Multiresolution-Framework-for-Fourier-Ptychography/.venv/lib/python3.8/site-packages/tqdm/auto.py:21: TqdmWarning: IProgress not found. Please update jupyter and ipywidgets. See https://ipywidgets.readthedocs.io/en/stable/user_install.html\n",
      "  from .autonotebook import tqdm as notebook_tqdm\n"
     ]
    }
   ],
   "source": [
    "import os \n",
    "os.chdir(\"..\")\n",
    "os.chdir(\"..\")\n",
    "from src.cpwc.multires.class_multiressolver import *\n",
    "import matplotlib.pyplot as plt\n",
    "import torch\n",
    "from src.cpwc.tools.ptychography import Ptychography as Ptychography\n",
    "from src.cpwc.tools.utils import *\n",
    "torch.cuda.empty_cache()\n",
    "from src.utils.cuda_pyth import empty_cuda, print_cuda_tensors\n",
    "from src.utils.get_image import get_image\n",
    "from src.utils.noise import add_gaussian_noise, add_poisson_noise\n",
    "from src.utils.metrics import get_ring_average, F2fluxconverter\n",
    "from src.utils.manage_data import save_data,unwrap_2d,extract_data\n",
    "# Set seeds \n",
    "torch.manual_seed(0)\n",
    "np.random.seed(0)\n",
    "\n",
    "device = \"cuda\" if torch.cuda.is_available() else \"cpu\"\n",
    "max_scale = 9\n",
    "image,image_tensor_ = get_image(\"samples/potential.npy\", max_scale,device)\n",
    "max_probe_size = 128\n",
    "cycle = [0, -1, -1, -1,  1, 1, 1]\n",
    "tol = [1e-10] * 9\n",
    "tol_in = [1e-15] * 9\n",
    "max_shift = 64\n",
    "lmbda = 1e-30\n",
    "#noise = 1e30\n",
    "linOperator = Ptychography(max_scale = max_scale,max_probe_size = max_probe_size ,max_shift = max_shift,device=device)\n",
    "multires = MultiRes(max_scale, device)\n",
    "image_tensor__ = linOperator.apply(image_tensor_)\n",
    "#image_tensor__ = add_poisson_noise(image_tensor__, noise, 'cuda')\n",
    "loss = Loss(linOperator,image_tensor__,lmbda= lmbda)\n",
    "I_in = 25*np.array([1, 15, 10, 5, 10, 30, 100])\n",
    "#I_out = 10*np.array([0, 0, 0, 30, 10,10,300])\n",
    "I_out = 10*np.array([0, 0, 0, 10, 5,5,300])\n",
    "#I_out = 10*np.array([0, 0, 0, 0, 0,0,320])\n",
    "\n"
   ]
  },
  {
   "cell_type": "code",
   "execution_count": 2,
   "metadata": {},
   "outputs": [
    {
     "name": "stdout",
     "output_type": "stream",
     "text": [
      "----------- s = 9 -----------\n",
      "----------- s = 8 -----------\n",
      "----------- s = 7 -----------\n",
      "----------- s = 6 -----------\n",
      "1\n",
      "Iter 1, [loss,mse,reg,csim] : [129134.6449206, 129134.6449206, 0.0, 0.0026169, ] \n",
      "LR = 0.1\n",
      "1\n",
      "Iter 2, [loss,mse,reg,csim] : [1725590.9143184, 1725590.9143184, 0.0, 0.0461617, ] \n",
      "LR = 0.1\n",
      "1\n",
      "Iter 3, [loss,mse,reg,csim] : [40946562.116732, 40946562.116732, 0.0, 0.029473, ] \n",
      "LR = 0.1\n",
      "1\n",
      "Iter 4, [loss,mse,reg,csim] : [2130276058.2800107, 2130276058.2800107, 0.0, 0.0283141, ] \n",
      "LR = 0.1\n",
      "1\n",
      "Iter 5, [loss,mse,reg,csim] : [137113529826.70746, 137113529826.70746, 0.0, 0.0282135, ] \n",
      "LR = 0.1\n",
      "1\n",
      "Iter 6, [loss,mse,reg,csim] : [10055979235735.61, 10055979235735.61, 0.0, 0.0282959, ] \n",
      "LR = 0.1\n",
      "1\n",
      "Iter 7, [loss,mse,reg,csim] : [804838869041153.5, 804838869041153.5, 0.0, 0.0283924, ] \n",
      "LR = 0.1\n",
      "1\n",
      "Iter 8, [loss,mse,reg,csim] : [6.857479515156807e+16, 6.857479515156807e+16, 0.0, 0.0284858, ] \n",
      "LR = 0.1\n",
      "1\n",
      "Iter 9, [loss,mse,reg,csim] : [6.124343595898485e+18, 6.124343595898485e+18, 0.0, 0.0285745, ] \n",
      "LR = 0.1\n",
      "1\n",
      "Iter 10, [loss,mse,reg,csim] : [5.674367137456511e+20, 5.674367137456511e+20, 0.0, 0.0286586, ] \n",
      "LR = 0.1\n",
      "1\n",
      "Iter 11, [loss,mse,reg,csim] : [5.41510347408957e+22, 5.41510347408957e+22, 0.0, 0.0287383, ] \n",
      "LR = 0.1\n",
      "1\n",
      "Iter 12, [loss,mse,reg,csim] : [5.294777138544528e+24, 5.294777138544528e+24, 0.0, 0.028814, ] \n",
      "LR = 0.1\n",
      "1\n",
      "Iter 13, [loss,mse,reg,csim] : [5.283557103199287e+26, 5.283557103199287e+26, 0.0, 0.0288857, ] \n",
      "LR = 0.1\n",
      "1\n",
      "Iter 14, [loss,mse,reg,csim] : [5.364393322076472e+28, 5.364393322076472e+28, 0.0, 0.0289539, ] \n",
      "LR = 0.1\n",
      "1\n",
      "Iter 15, [loss,mse,reg,csim] : [5.52825093906052e+30, 5.52825093906052e+30, 0.0, 0.0290186, ] \n",
      "LR = 0.1\n",
      "1\n",
      "Iter 16, [loss,mse,reg,csim] : [5.7715261910744375e+32, 5.7715261910744375e+32, 0.0, 0.0290802, ] \n",
      "LR = 0.1\n",
      "1\n",
      "Iter 17, [loss,mse,reg,csim] : [6.094619613747493e+34, 6.094619613747493e+34, 0.0, 0.0291387, ] \n",
      "LR = 0.1\n",
      "1\n",
      "Iter 18, [loss,mse,reg,csim] : [6.501163653305676e+36, 6.501163653305676e+36, 0.0, 0.0291944, ] \n",
      "LR = 0.1\n",
      "1\n",
      "Iter 19, [loss,mse,reg,csim] : [6.997646079120938e+38, 6.997646079120938e+38, 0.0, 0.0292475, ] \n",
      "LR = 0.1\n",
      "1\n",
      "Iter 20, [loss,mse,reg,csim] : [7.593292079763084e+40, 7.593292079763084e+40, 0.0, 0.029298, ] \n",
      "LR = 0.1\n",
      "1\n",
      "Iter 21, [loss,mse,reg,csim] : [8.30013180611565e+42, 8.30013180611565e+42, 0.0, 0.0293461, ] \n",
      "LR = 0.1\n",
      "1\n",
      "Iter 22, [loss,mse,reg,csim] : [9.133215678944221e+44, 9.133215678944221e+44, 1e-07, 0.029392, ] \n",
      "LR = 0.1\n",
      "1\n",
      "Iter 23, [loss,mse,reg,csim] : [1.0110960891651902e+47, 1.0110960891651902e+47, 1.3e-06, 0.0294358, ] \n",
      "LR = 0.1\n",
      "1\n",
      "Iter 24, [loss,mse,reg,csim] : [1.1255626134393946e+49, 1.1255626134393946e+49, 1.37e-05, 0.0294777, ] \n",
      "LR = 0.1\n",
      "1\n",
      "Iter 25, [loss,mse,reg,csim] : [1.2593921267522339e+51, 1.2593921267522339e+51, 0.0001433, 0.0295176, ] \n",
      "LR = 0.1\n",
      "1\n",
      "Iter 26, [loss,mse,reg,csim] : [1.4157766482221695e+53, 1.4157766482221695e+53, 0.0015064, 0.0295557, ] \n",
      "LR = 0.1\n",
      "1\n",
      "Iter 27, [loss,mse,reg,csim] : [1.5985222585254606e+55, 1.5985222585254606e+55, 0.015882, 0.0295922, ] \n",
      "LR = 0.1\n",
      "1\n",
      "Iter 28, [loss,mse,reg,csim] : [1.8121621194173084e+57, 1.8121621194173084e+57, 0.167841, 0.0296271, ] \n",
      "LR = 0.1\n",
      "1\n",
      "Iter 29, [loss,mse,reg,csim] : [2.0620931380120946e+59, 2.0620931380120946e+59, 1.7777454, 0.0296604, ] \n",
      "LR = 0.1\n",
      "1\n",
      "Iter 30, [loss,mse,reg,csim] : [2.354740810372327e+61, 2.354740810372327e+61, 18.8688796, 0.0296924, ] \n",
      "LR = 0.1\n",
      "1\n",
      "Iter 31, [loss,mse,reg,csim] : [2.6977578085574507e+63, 2.6977578085574507e+63, 200.659957, 0.029723, ] \n",
      "LR = 0.1\n",
      "1\n",
      "Iter 32, [loss,mse,reg,csim] : [3.100263098508242e+65, 3.100263098508242e+65, 2137.7799467, 0.0297523, ] \n",
      "LR = 0.1\n",
      "1\n",
      "Iter 33, [loss,mse,reg,csim] : [3.573129843044752e+67, 3.573129843044752e+67, 22814.5351669, 0.0297804, ] \n",
      "LR = 0.1\n",
      "1\n",
      "Iter 34, [loss,mse,reg,csim] : [4.129332112973755e+69, 4.129332112973755e+69, 243880.1750712, 0.0298073, ] \n",
      "LR = 0.1\n",
      "1\n",
      "Iter 35, [loss,mse,reg,csim] : [4.784362568898469e+71, 4.784362568898469e+71, 2610990.6493518, 0.0298332, ] \n",
      "LR = 0.1\n",
      "1\n",
      "Iter 36, [loss,mse,reg,csim] : [5.556735869858708e+73, 5.556735869858708e+73, 27992945.3912177, 0.029858, ] \n",
      "LR = 0.1\n",
      "1\n",
      "Iter 37, [loss,mse,reg,csim] : [6.468595712977176e+75, 6.468595712977176e+75, 300517557.8230871, 0.0298819, ] \n",
      "LR = 0.1\n",
      "1\n",
      "Iter 38, [loss,mse,reg,csim] : [7.54644723309171e+77, 7.54644723309171e+77, 3230272898.319808, 0.0299048, ] \n",
      "LR = 0.1\n",
      "1\n",
      "Iter 39, [loss,mse,reg,csim] : [8.82204114182989e+79, 8.82204114182989e+79, 34763471246.01115, 0.0299268, ] \n",
      "LR = 0.1\n",
      "1\n",
      "Iter 40, [loss,mse,reg,csim] : [1.0333441643385346e+82, 1.0333441643385346e+82, 374543326290.2908, 0.029948, ] \n",
      "LR = 0.1\n",
      "1\n",
      "Iter 41, [loss,mse,reg,csim] : [1.2126317051175116e+84, 1.2126317051175116e+84, 4039833722917.718, 0.0299684, ] \n",
      "LR = 0.1\n",
      "1\n",
      "Iter 42, [loss,mse,reg,csim] : [1.4255500416565472e+86, 1.4255500416565472e+86, 43618010798544.83, 0.029988, ] \n",
      "LR = 0.1\n",
      "1\n",
      "Iter 43, [loss,mse,reg,csim] : [1.6786877699174956e+88, 1.6786877699174956e+88, 471400099451231.6, 0.0300069, ] \n",
      "LR = 0.1\n",
      "1\n"
     ]
    },
    {
     "ename": "KeyboardInterrupt",
     "evalue": "",
     "output_type": "error",
     "traceback": [
      "\u001b[0;31m---------------------------------------------------------------------------\u001b[0m",
      "\u001b[0;31mKeyboardInterrupt\u001b[0m                         Traceback (most recent call last)",
      "Cell \u001b[0;32mIn[2], line 12\u001b[0m\n\u001b[1;32m      1\u001b[0m LR \u001b[38;5;241m=\u001b[39m \u001b[38;5;241m1e-1\u001b[39m\n\u001b[1;32m      2\u001b[0m model \u001b[38;5;241m=\u001b[39m MultiResSolver(multires, \n\u001b[1;32m      3\u001b[0m                         loss, \n\u001b[1;32m      4\u001b[0m                         LR \u001b[38;5;241m=\u001b[39m LR,\n\u001b[0;32m   (...)\u001b[0m\n\u001b[1;32m     10\u001b[0m                         l1_type \u001b[38;5;241m=\u001b[39m \u001b[38;5;124m\"\u001b[39m\u001b[38;5;124ml1_row\u001b[39m\u001b[38;5;124m\"\u001b[39m,\n\u001b[1;32m     11\u001b[0m                         gt \u001b[38;5;241m=\u001b[39m image_tensor_)\n\u001b[0;32m---> 12\u001b[0m \u001b[43mmodel\u001b[49m\u001b[38;5;241;43m.\u001b[39;49m\u001b[43msolve_multigrid\u001b[49m\u001b[43m(\u001b[49m\u001b[43m)\u001b[49m\n\u001b[1;32m     13\u001b[0m model\u001b[38;5;241m.\u001b[39mprint_time()\n",
      "File \u001b[0;32m~/Desktop/Multiresolution-Framework-for-Fourier-Ptychography/src/cpwc/multires/class_multiressolver.py:189\u001b[0m, in \u001b[0;36mMultiResSolver.solve_multigrid\u001b[0;34m(self)\u001b[0m\n\u001b[1;32m    187\u001b[0m     \u001b[38;5;28mself\u001b[39m\u001b[38;5;241m.\u001b[39mloc[\u001b[38;5;124m\"\u001b[39m\u001b[38;5;124md_k\u001b[39m\u001b[38;5;124m\"\u001b[39m] \u001b[38;5;241m=\u001b[39m F\u001b[38;5;241m.\u001b[39mup(\u001b[38;5;28mself\u001b[39m\u001b[38;5;241m.\u001b[39msols[\u001b[38;5;28mself\u001b[39m\u001b[38;5;241m.\u001b[39ms \u001b[38;5;241m-\u001b[39m \u001b[38;5;241m2\u001b[39m])\n\u001b[1;32m    188\u001b[0m \u001b[38;5;28mprint\u001b[39m(\u001b[38;5;124m'\u001b[39m\u001b[38;5;124m----------- s = \u001b[39m\u001b[38;5;124m'\u001b[39m \u001b[38;5;241m+\u001b[39m \u001b[38;5;28mstr\u001b[39m(multires\u001b[38;5;241m.\u001b[39mloc[\u001b[38;5;124m\"\u001b[39m\u001b[38;5;124ms\u001b[39m\u001b[38;5;124m\"\u001b[39m]) \u001b[38;5;241m+\u001b[39m \u001b[38;5;124m'\u001b[39m\u001b[38;5;124m -----------\u001b[39m\u001b[38;5;124m'\u001b[39m )\n\u001b[0;32m--> 189\u001b[0m \u001b[38;5;28;43mself\u001b[39;49m\u001b[38;5;241;43m.\u001b[39;49m\u001b[43msolve_scale\u001b[49m\u001b[43m(\u001b[49m\u001b[43m)\u001b[49m\n\u001b[1;32m    190\u001b[0m \u001b[38;5;28mself\u001b[39m\u001b[38;5;241m.\u001b[39mfinal_sols\u001b[38;5;241m.\u001b[39mappend(\u001b[38;5;28mself\u001b[39m\u001b[38;5;241m.\u001b[39msols[\u001b[38;5;28mself\u001b[39m\u001b[38;5;241m.\u001b[39ms \u001b[38;5;241m-\u001b[39m \u001b[38;5;241m1\u001b[39m])\n\u001b[1;32m    191\u001b[0m \u001b[38;5;28;01mif\u001b[39;00m (\u001b[38;5;28mself\u001b[39m\u001b[38;5;241m.\u001b[39ms \u001b[38;5;241m==\u001b[39m \u001b[38;5;28mself\u001b[39m\u001b[38;5;241m.\u001b[39mearly_stopping) \u001b[38;5;129;01mand\u001b[39;00m (\u001b[38;5;28mself\u001b[39m\u001b[38;5;241m.\u001b[39mcycle[\u001b[38;5;124m\"\u001b[39m\u001b[38;5;124mcycle\u001b[39m\u001b[38;5;124m\"\u001b[39m][grid] \u001b[38;5;241m==\u001b[39m \u001b[38;5;241m1\u001b[39m):\n",
      "File \u001b[0;32m~/Desktop/Multiresolution-Framework-for-Fourier-Ptychography/src/cpwc/multires/class_multiressolver.py:160\u001b[0m, in \u001b[0;36mMultiResSolver.solve_scale\u001b[0;34m(self)\u001b[0m\n\u001b[1;32m    154\u001b[0m inner_prox \u001b[38;5;241m=\u001b[39m d_k \u001b[38;5;241m-\u001b[39m \u001b[38;5;28mself\u001b[39m\u001b[38;5;241m.\u001b[39mcalc_grad(d_k) \u001b[38;5;241m*\u001b[39m (\u001b[38;5;28mself\u001b[39m\u001b[38;5;241m.\u001b[39mLR_)\n\u001b[1;32m    155\u001b[0m c_kp1 \u001b[38;5;241m=\u001b[39m reg\u001b[38;5;241m.\u001b[39mgrad(y\u001b[38;5;241m=\u001b[39minner_prox,\n\u001b[1;32m    156\u001b[0m                  iter_in\u001b[38;5;241m=\u001b[39m\u001b[38;5;28mself\u001b[39m\u001b[38;5;241m.\u001b[39mcycle[\u001b[38;5;124m\"\u001b[39m\u001b[38;5;124mI_in\u001b[39m\u001b[38;5;124m\"\u001b[39m][g],\n\u001b[1;32m    157\u001b[0m                  lmbda\u001b[38;5;241m=\u001b[39mloss\u001b[38;5;241m.\u001b[39mlmbda,\n\u001b[1;32m    158\u001b[0m                  tau \u001b[38;5;241m=\u001b[39m \u001b[38;5;28mself\u001b[39m\u001b[38;5;241m.\u001b[39mLR_,\n\u001b[1;32m    159\u001b[0m                  toi\u001b[38;5;241m=\u001b[39m\u001b[38;5;28mself\u001b[39m\u001b[38;5;241m.\u001b[39mcycle[\u001b[38;5;124m\"\u001b[39m\u001b[38;5;124mtol_in\u001b[39m\u001b[38;5;124m\"\u001b[39m][g])            \u001b[38;5;66;03m#if (self.loss.calc_loss(self.c_k) < 0.9*self.loss.calc_loss(c_kp1)):\u001b[39;00m\n\u001b[0;32m--> 160\u001b[0m \u001b[38;5;28;43mself\u001b[39;49m\u001b[38;5;241;43m.\u001b[39;49m\u001b[43mup_measures\u001b[49m\u001b[43m(\u001b[49m\u001b[38;5;28;43mself\u001b[39;49m\u001b[38;5;241;43m.\u001b[39;49m\u001b[43mc_k\u001b[49m\u001b[43m,\u001b[49m\u001b[43m \u001b[49m\u001b[43mc_kp1\u001b[49m\u001b[43m)\u001b[49m  \u001b[38;5;66;03m# Update tracking measures\u001b[39;00m\n\u001b[1;32m    161\u001b[0m \u001b[38;5;28mself\u001b[39m\u001b[38;5;241m.\u001b[39mc_k, d_k, t_k \u001b[38;5;241m=\u001b[39m fista_fast(t_k, c_kp1, \u001b[38;5;28mself\u001b[39m\u001b[38;5;241m.\u001b[39mc_k)  \u001b[38;5;66;03m# Perform FISTA update\u001b[39;00m\n\u001b[1;32m    162\u001b[0m iter_time \u001b[38;5;241m=\u001b[39m time\u001b[38;5;241m.\u001b[39mtime() \u001b[38;5;241m-\u001b[39m start_iter\n",
      "File \u001b[0;32m~/Desktop/Multiresolution-Framework-for-Fourier-Ptychography/src/cpwc/multires/class_multiressolver.py:118\u001b[0m, in \u001b[0;36mMultiResSolver.up_measures\u001b[0;34m(self, x1, x2)\u001b[0m\n\u001b[1;32m    116\u001b[0m \u001b[38;5;28;01mexcept\u001b[39;00m:\n\u001b[1;32m    117\u001b[0m     \u001b[38;5;28mself\u001b[39m\u001b[38;5;241m.\u001b[39mmeasures[\u001b[38;5;124m\"\u001b[39m\u001b[38;5;124miters\u001b[39m\u001b[38;5;124m\"\u001b[39m][\u001b[38;5;241m-\u001b[39m\u001b[38;5;241m1\u001b[39m]\u001b[38;5;241m.\u001b[39mappend(\u001b[38;5;241m0\u001b[39m)\n\u001b[0;32m--> 118\u001b[0m \u001b[38;5;28mself\u001b[39m\u001b[38;5;241m.\u001b[39mmeasures[\u001b[38;5;124m\"\u001b[39m\u001b[38;5;124mloss\u001b[39m\u001b[38;5;124m\"\u001b[39m][\u001b[38;5;241m-\u001b[39m\u001b[38;5;241m1\u001b[39m]\u001b[38;5;241m.\u001b[39mappend(\u001b[38;5;28;43mself\u001b[39;49m\u001b[38;5;241;43m.\u001b[39;49m\u001b[43mloss\u001b[49m\u001b[38;5;241;43m.\u001b[39;49m\u001b[43mcalc_loss\u001b[49m\u001b[43m(\u001b[49m\u001b[43mx1\u001b[49m\u001b[43m,\u001b[49m\u001b[43m \u001b[49m\u001b[43ml1_type\u001b[49m\u001b[38;5;241;43m=\u001b[39;49m\u001b[43m \u001b[49m\u001b[38;5;28;43mself\u001b[39;49m\u001b[38;5;241;43m.\u001b[39;49m\u001b[43ml1_type\u001b[49m\u001b[43m)\u001b[49m)\n\u001b[1;32m    119\u001b[0m \u001b[38;5;66;03m#self.measures[\"loss\"][-1].append(self.loss.calc_loss(x1))\u001b[39;00m\n\u001b[1;32m    120\u001b[0m \u001b[38;5;28mself\u001b[39m\u001b[38;5;241m.\u001b[39mmeasures[\u001b[38;5;124m\"\u001b[39m\u001b[38;5;124mmse\u001b[39m\u001b[38;5;124m\"\u001b[39m][\u001b[38;5;241m-\u001b[39m\u001b[38;5;241m1\u001b[39m]\u001b[38;5;241m.\u001b[39mappend(\u001b[38;5;28mself\u001b[39m\u001b[38;5;241m.\u001b[39mloss\u001b[38;5;241m.\u001b[39mcalc_mse(x1))\n",
      "File \u001b[0;32m~/Desktop/Multiresolution-Framework-for-Fourier-Ptychography/src/cpwc/multires/class_loss.py:40\u001b[0m, in \u001b[0;36mLoss.calc_loss\u001b[0;34m(self, x, l1_type)\u001b[0m\n\u001b[1;32m     35\u001b[0m \u001b[38;5;28;01mdef\u001b[39;00m \u001b[38;5;21mcalc_loss\u001b[39m(\u001b[38;5;28mself\u001b[39m, x,l1_type \u001b[38;5;241m=\u001b[39m \u001b[38;5;124m'\u001b[39m\u001b[38;5;124ml1_row\u001b[39m\u001b[38;5;124m'\u001b[39m):    \n\u001b[1;32m     36\u001b[0m \u001b[38;5;250m    \u001b[39m\u001b[38;5;124;03m'''\u001b[39;00m\n\u001b[1;32m     37\u001b[0m \u001b[38;5;124;03m    Calculates the final loss function as the sum of \u001b[39;00m\n\u001b[1;32m     38\u001b[0m \u001b[38;5;124;03m    the MSE and the regularization loss. \u001b[39;00m\n\u001b[1;32m     39\u001b[0m \u001b[38;5;124;03m    '''\u001b[39;00m\n\u001b[0;32m---> 40\u001b[0m     \u001b[38;5;28;01mreturn\u001b[39;00m \u001b[38;5;28;43mself\u001b[39;49m\u001b[38;5;241;43m.\u001b[39;49m\u001b[43mcalc_mse\u001b[49m\u001b[43m(\u001b[49m\u001b[43mx\u001b[49m\u001b[43m)\u001b[49m \u001b[38;5;241m+\u001b[39m \u001b[38;5;28mself\u001b[39m\u001b[38;5;241m.\u001b[39mcalc_reg(x,l1_type)\n",
      "File \u001b[0;32m~/Desktop/Multiresolution-Framework-for-Fourier-Ptychography/src/cpwc/multires/class_loss.py:25\u001b[0m, in \u001b[0;36mLoss.calc_mse\u001b[0;34m(self, x)\u001b[0m\n\u001b[1;32m     20\u001b[0m \u001b[38;5;28;01mdef\u001b[39;00m \u001b[38;5;21mcalc_mse\u001b[39m(\u001b[38;5;28mself\u001b[39m, x):\n\u001b[1;32m     21\u001b[0m \u001b[38;5;250m    \u001b[39m\u001b[38;5;124;03m'''\u001b[39;00m\n\u001b[1;32m     22\u001b[0m \u001b[38;5;124;03m    Calculates the mean squared error between the input image and the\u001b[39;00m\n\u001b[1;32m     23\u001b[0m \u001b[38;5;124;03m    forward interpolation of the solution.\u001b[39;00m\n\u001b[1;32m     24\u001b[0m \u001b[38;5;124;03m    '''\u001b[39;00m\n\u001b[0;32m---> 25\u001b[0m     \u001b[38;5;28;01mreturn\u001b[39;00m ((torch\u001b[38;5;241m.\u001b[39mabs(torch\u001b[38;5;241m.\u001b[39msqrt(\u001b[38;5;28mself\u001b[39m\u001b[38;5;241m.\u001b[39my) \u001b[38;5;241m-\u001b[39m torch\u001b[38;5;241m.\u001b[39msqrt(\u001b[38;5;28;43mself\u001b[39;49m\u001b[38;5;241;43m.\u001b[39;49m\u001b[43mF\u001b[49m\u001b[38;5;241;43m.\u001b[39;49m\u001b[43mH_power\u001b[49m\u001b[43m(\u001b[49m\u001b[43mx\u001b[49m\u001b[43m)\u001b[49m))\u001b[38;5;241m*\u001b[39m\u001b[38;5;241m*\u001b[39m\u001b[38;5;241m2\u001b[39m)\u001b[38;5;241m.\u001b[39msum() \u001b[38;5;241m/\u001b[39m \u001b[38;5;241m2\u001b[39m)\u001b[38;5;241m.\u001b[39mitem()\n",
      "File \u001b[0;32m~/Desktop/Multiresolution-Framework-for-Fourier-Ptychography/src/cpwc/multires/class_interpolation.py:16\u001b[0m, in \u001b[0;36mForwardInterpolation.H_power\u001b[0;34m(self, x)\u001b[0m\n\u001b[1;32m     15\u001b[0m \u001b[38;5;28;01mdef\u001b[39;00m \u001b[38;5;21mH_power\u001b[39m(\u001b[38;5;28mself\u001b[39m,x):\n\u001b[0;32m---> 16\u001b[0m     \u001b[38;5;28;01mreturn\u001b[39;00m \u001b[38;5;28;43mself\u001b[39;49m\u001b[38;5;241;43m.\u001b[39;49m\u001b[43mlinOperator\u001b[49m\u001b[38;5;241;43m.\u001b[39;49m\u001b[43mapply\u001b[49m\u001b[43m(\u001b[49m\u001b[43mx\u001b[49m\u001b[43m)\u001b[49m\n",
      "File \u001b[0;32m~/Desktop/Multiresolution-Framework-for-Fourier-Ptychography/src/cpwc/tools/ptychography.py:76\u001b[0m, in \u001b[0;36mPtychography.apply\u001b[0;34m(self, x)\u001b[0m\n\u001b[1;32m     73\u001b[0m \u001b[38;5;28;01melse\u001b[39;00m:\n\u001b[1;32m     74\u001b[0m     \u001b[38;5;28;01mpass\u001b[39;00m\n\u001b[0;32m---> 76\u001b[0m x \u001b[38;5;241m=\u001b[39m \u001b[38;5;28;43msuper\u001b[39;49m\u001b[43m(\u001b[49m\u001b[43m)\u001b[49m\u001b[38;5;241;43m.\u001b[39;49m\u001b[43mapply_linop\u001b[49m\u001b[43m(\u001b[49m\u001b[43mx\u001b[49m\u001b[43m)\u001b[49m\n\u001b[1;32m     77\u001b[0m \u001b[38;5;28;01mif\u001b[39;00m \u001b[38;5;28mself\u001b[39m\u001b[38;5;241m.\u001b[39mscale \u001b[38;5;241m==\u001b[39m \u001b[38;5;28mself\u001b[39m\u001b[38;5;241m.\u001b[39mmax_scale:\n\u001b[1;32m     78\u001b[0m     x \u001b[38;5;241m=\u001b[39m LinOpFFTShift2D()\u001b[38;5;241m.\u001b[39mapply(x)\n",
      "File \u001b[0;32m~/Desktop/Multiresolution-Framework-for-Fourier-Ptychography/src/cpwc_v/tools/phaseretrieval.py:14\u001b[0m, in \u001b[0;36mPhaseRetrievalBase.apply_linop\u001b[0;34m(self, x)\u001b[0m\n\u001b[1;32m     13\u001b[0m \u001b[38;5;28;01mdef\u001b[39;00m \u001b[38;5;21mapply_linop\u001b[39m(\u001b[38;5;28mself\u001b[39m, x):\n\u001b[0;32m---> 14\u001b[0m     \u001b[38;5;28;01mreturn\u001b[39;00m \u001b[38;5;28;43mself\u001b[39;49m\u001b[38;5;241;43m.\u001b[39;49m\u001b[43mlinop\u001b[49m\u001b[38;5;241;43m.\u001b[39;49m\u001b[43mapply\u001b[49m\u001b[43m(\u001b[49m\u001b[43mx\u001b[49m\u001b[43m)\u001b[49m\n",
      "File \u001b[0;32m~/Desktop/Multiresolution-Framework-for-Fourier-Ptychography/src/cpwc_v/tools/linop.py:225\u001b[0m, in \u001b[0;36mLinOpCat.apply\u001b[0;34m(self, x)\u001b[0m\n\u001b[1;32m    224\u001b[0m \u001b[38;5;28;01mdef\u001b[39;00m \u001b[38;5;21mapply\u001b[39m(\u001b[38;5;28mself\u001b[39m, x):\n\u001b[0;32m--> 225\u001b[0m     \u001b[38;5;28;01mreturn\u001b[39;00m torch\u001b[38;5;241m.\u001b[39mcat(\u001b[38;5;28;43mtuple\u001b[39;49m\u001b[43m(\u001b[49m\u001b[43mlinop\u001b[49m\u001b[38;5;241;43m.\u001b[39;49m\u001b[43mapply\u001b[49m\u001b[43m(\u001b[49m\u001b[43mx\u001b[49m\u001b[43m)\u001b[49m\u001b[43m \u001b[49m\u001b[38;5;28;43;01mfor\u001b[39;49;00m\u001b[43m \u001b[49m\u001b[43mlinop\u001b[49m\u001b[43m \u001b[49m\u001b[38;5;129;43;01min\u001b[39;49;00m\u001b[43m \u001b[49m\u001b[38;5;28;43mself\u001b[39;49m\u001b[38;5;241;43m.\u001b[39;49m\u001b[43mLinOpList\u001b[49m\u001b[43m)\u001b[49m, dim\u001b[38;5;241m=\u001b[39m\u001b[38;5;241m1\u001b[39m)\n",
      "File \u001b[0;32m~/Desktop/Multiresolution-Framework-for-Fourier-Ptychography/src/cpwc_v/tools/linop.py:225\u001b[0m, in \u001b[0;36m<genexpr>\u001b[0;34m(.0)\u001b[0m\n\u001b[1;32m    224\u001b[0m \u001b[38;5;28;01mdef\u001b[39;00m \u001b[38;5;21mapply\u001b[39m(\u001b[38;5;28mself\u001b[39m, x):\n\u001b[0;32m--> 225\u001b[0m     \u001b[38;5;28;01mreturn\u001b[39;00m torch\u001b[38;5;241m.\u001b[39mcat(\u001b[38;5;28mtuple\u001b[39m(\u001b[43mlinop\u001b[49m\u001b[38;5;241;43m.\u001b[39;49m\u001b[43mapply\u001b[49m\u001b[43m(\u001b[49m\u001b[43mx\u001b[49m\u001b[43m)\u001b[49m \u001b[38;5;28;01mfor\u001b[39;00m linop \u001b[38;5;129;01min\u001b[39;00m \u001b[38;5;28mself\u001b[39m\u001b[38;5;241m.\u001b[39mLinOpList), dim\u001b[38;5;241m=\u001b[39m\u001b[38;5;241m1\u001b[39m)\n",
      "File \u001b[0;32m~/Desktop/Multiresolution-Framework-for-Fourier-Ptychography/src/cpwc_v/tools/linop_base.py:72\u001b[0m, in \u001b[0;36mLinOpComposition.apply\u001b[0;34m(self, x)\u001b[0m\n\u001b[1;32m     71\u001b[0m \u001b[38;5;28;01mdef\u001b[39;00m \u001b[38;5;21mapply\u001b[39m(\u001b[38;5;28mself\u001b[39m, x):\n\u001b[0;32m---> 72\u001b[0m     \u001b[38;5;28;01mreturn\u001b[39;00m \u001b[38;5;28;43mself\u001b[39;49m\u001b[38;5;241;43m.\u001b[39;49m\u001b[43mLinOp1\u001b[49m\u001b[38;5;241;43m.\u001b[39;49m\u001b[43mapply\u001b[49m\u001b[43m(\u001b[49m\u001b[38;5;28;43mself\u001b[39;49m\u001b[38;5;241;43m.\u001b[39;49m\u001b[43mLinOp2\u001b[49m\u001b[38;5;241;43m.\u001b[39;49m\u001b[43mapply\u001b[49m\u001b[43m(\u001b[49m\u001b[43mx\u001b[49m\u001b[43m)\u001b[49m\u001b[43m)\u001b[49m\n",
      "File \u001b[0;32m~/Desktop/Multiresolution-Framework-for-Fourier-Ptychography/src/cpwc_v/tools/linop_base.py:72\u001b[0m, in \u001b[0;36mLinOpComposition.apply\u001b[0;34m(self, x)\u001b[0m\n\u001b[1;32m     71\u001b[0m \u001b[38;5;28;01mdef\u001b[39;00m \u001b[38;5;21mapply\u001b[39m(\u001b[38;5;28mself\u001b[39m, x):\n\u001b[0;32m---> 72\u001b[0m     \u001b[38;5;28;01mreturn\u001b[39;00m \u001b[38;5;28;43mself\u001b[39;49m\u001b[38;5;241;43m.\u001b[39;49m\u001b[43mLinOp1\u001b[49m\u001b[38;5;241;43m.\u001b[39;49m\u001b[43mapply\u001b[49m\u001b[43m(\u001b[49m\u001b[38;5;28;43mself\u001b[39;49m\u001b[38;5;241;43m.\u001b[39;49m\u001b[43mLinOp2\u001b[49m\u001b[38;5;241;43m.\u001b[39;49m\u001b[43mapply\u001b[49m\u001b[43m(\u001b[49m\u001b[43mx\u001b[49m\u001b[43m)\u001b[49m\u001b[43m)\u001b[49m\n",
      "File \u001b[0;32m~/Desktop/Multiresolution-Framework-for-Fourier-Ptychography/src/cpwc_v/tools/linop.py:110\u001b[0m, in \u001b[0;36mLinOpFFT2.apply\u001b[0;34m(self, x)\u001b[0m\n\u001b[1;32m    109\u001b[0m \u001b[38;5;28;01mdef\u001b[39;00m \u001b[38;5;21mapply\u001b[39m(\u001b[38;5;28mself\u001b[39m, x):\n\u001b[0;32m--> 110\u001b[0m     \u001b[38;5;28;01mreturn\u001b[39;00m \u001b[43mtorch\u001b[49m\u001b[38;5;241;43m.\u001b[39;49m\u001b[43mfft\u001b[49m\u001b[38;5;241;43m.\u001b[39;49m\u001b[43mfft2\u001b[49m\u001b[43m(\u001b[49m\u001b[43mx\u001b[49m\u001b[43m,\u001b[49m\u001b[43m \u001b[49m\u001b[43mnorm\u001b[49m\u001b[38;5;241;43m=\u001b[39;49m\u001b[38;5;124;43m\"\u001b[39;49m\u001b[38;5;124;43mortho\u001b[39;49m\u001b[38;5;124;43m\"\u001b[39;49m\u001b[43m)\u001b[49m\n",
      "\u001b[0;31mKeyboardInterrupt\u001b[0m: "
     ]
    }
   ],
   "source": [
    "LR = 1e-1\n",
    "model = MultiResSolver(multires, \n",
    "                        loss, \n",
    "                        LR = LR,\n",
    "                        I_in = I_in,\n",
    "                        I_out = I_out,\n",
    "                        tol = tol,\n",
    "                        tol_in = tol_in,\n",
    "                        cycle = cycle,\n",
    "                        l1_type = \"l1_row\",\n",
    "                        gt = image_tensor_)\n",
    "model.solve_multigrid()\n",
    "model.print_time()"
   ]
  },
  {
   "cell_type": "code",
   "execution_count": null,
   "metadata": {},
   "outputs": [],
   "source": [
    "np.save(\"experiments/results/exp3/time_gd.npy\",np.array(model.iter_times))"
   ]
  },
  {
   "cell_type": "code",
   "execution_count": null,
   "metadata": {},
   "outputs": [],
   "source": [
    "mrgd_time = np.load(\"experiments/results/exp3/time_mrgd.npy\")\n",
    "gd_time = np.load(\"experiments/results/exp3/time_gd.npy\")"
   ]
  },
  {
   "cell_type": "code",
   "execution_count": null,
   "metadata": {},
   "outputs": [],
   "source": [
    "mrgd_time = np.cumsum(mrgd_time)\n",
    "gd_time = np.cumsum(gd_time)"
   ]
  },
  {
   "cell_type": "code",
   "execution_count": null,
   "metadata": {},
   "outputs": [],
   "source": [
    "plt.plot(mrgd_time, label = \"MRGD\")\n",
    "plt.plot(gd_time, label = \"GD\")"
   ]
  },
  {
   "cell_type": "code",
   "execution_count": null,
   "metadata": {},
   "outputs": [],
   "source": [
    "mrgd_loss = np.load(\"experiments/results/exp3/cpwc_overlap50_mrgdp_lambda1e-30_noise_typepoisson_noiseNone_lr0.01_loss.npy\")\n",
    "gd_loss = np.load(\"experiments/results/exp3/cpwc_overlap50_gd_lambda1e-30_noise_typepoisson_noiseNone_lr0.1_loss.npy\")"
   ]
  },
  {
   "cell_type": "code",
   "execution_count": null,
   "metadata": {},
   "outputs": [],
   "source": [
    "plt.semilogy(mrgd_loss, label = \"MRGD\")\n",
    "plt.semilogy(gd_loss, label = \"GD\")"
   ]
  },
  {
   "cell_type": "code",
   "execution_count": null,
   "metadata": {},
   "outputs": [],
   "source": [
    "plt.figure(figsize=(10, 5))\n",
    "plt.semilogy(mrgd_time, mrgd_loss[:-7], label='mrgd')\n",
    "plt.semilogy(gd_time, gd_loss[:-7], label='gd')\n",
    "plt.xlabel('Time (s)')\n",
    "plt.ylabel('Loss')\n",
    "plt.title('Loss vs Time')\n",
    "plt.legend()\n",
    "plt.grid()"
   ]
  },
  {
   "cell_type": "code",
   "execution_count": null,
   "metadata": {},
   "outputs": [],
   "source": [
    "if max_shift == 32:\n",
    "    overlap = 75\n",
    "elif max_shift == 64:\n",
    "    overlap = 50\n",
    "else:\n",
    "    overlap = 25\n",
    "from src.utils.manage_data import save_data,unwrap_2d,extract_data\n",
    "\n",
    "path = save_data(\n",
    "          path = \"experiments/results/exp3\",\n",
    "          model = model,\n",
    "          image_path= \"samples/potential.npy\",\n",
    "          metrics = ['csim','loss','frc',\"image\"],\n",
    "          device = \"cuda\",\n",
    "          max_scale = 9,\n",
    "          overlap = overlap,\n",
    "          spline_type=\"cpwc\",\n",
    "          lambda_ = lmbda,\n",
    "          lr = LR,\n",
    "          noise_type=\"poisson\",\n",
    "          noise = \"None\",\n",
    "          loop = \"mrgdp\")\n",
    "\n"
   ]
  },
  {
   "cell_type": "code",
   "execution_count": null,
   "metadata": {},
   "outputs": [],
   "source": [
    "mrgd001 = np.load(\"/home/efe/Desktop/Multiresolution-Framework-for-Fourier-Ptychography/experiments/results/exp1/cpwc_overlap50_mrgd_lambda1e-30_noise_typepoisson_noiseNone_lr0.001_csim.npy\")\n",
    "mrgdp01 = np.load(\"/home/efe/Desktop/Multiresolution-Framework-for-Fourier-Ptychography/experiments/results/exp1/cpwc_overlap50_mrgdp_lambda1e-30_noise_typepoisson_noiseNone_lr0.01_csim.npy\")\n",
    "mrgd01 = np.load(\"/home/efe/Desktop/Multiresolution-Framework-for-Fourier-Ptychography/experiments/results/exp1/cpwc_overlap50_mrgd_lambda1e-30_noise_typepoisson_noiseNone_lr0.01_csim.npy\")\n",
    "gd001 = np.load(\"/home/efe/Desktop/Multiresolution-Framework-for-Fourier-Ptychography/experiments/results/exp1/cpwc_overlap50_gd_lambda1e-30_noise_typepoisson_noiseNone_lr0.001_csim.npy\")\n",
    "gd01 = np.load(\"/home/efe/Desktop/Multiresolution-Framework-for-Fourier-Ptychography/experiments/results/exp1/cpwc_overlap50_gd_lambda1e-30_noise_typepoisson_noiseNone_lr0.01_csim.npy\")\n",
    "gd1 = np.load(\"/home/efe/Desktop/Multiresolution-Framework-for-Fourier-Ptychography/experiments/results/exp1/cpwc_overlap50_gd_lambda1e-30_noise_typepoisson_noiseNone_lr0.1_csim.npy\")"
   ]
  },
  {
   "cell_type": "code",
   "execution_count": null,
   "metadata": {},
   "outputs": [],
   "source": [
    "plt.figure(figsize=(15,7))\n",
    "plt.title(\"1-Cosine Similarity\")\n",
    "plt.semilogy(1-mrgd001,label=\"MRGD w/ LR= 0.001\")\n",
    "plt.semilogy(1-mrgd01,label=\"MRGD w/ LR= 0.01\")\n",
    "plt.semilogy(1-mrgdp01,label=\"MRGD w/ LR= 0.01 x 2^(scale - min_scale)\")\n",
    "plt.semilogy(1-gd001,label=\"GD w/ LR= 0.001\")\n",
    "plt.semilogy(1-gd01,label=\"GD w/ LR= 0.01\")\n",
    "plt.semilogy(1-gd1,label=\"GD w/ LR= 0.1\")\n",
    "plt.xlabel(\"Iterations\")\n",
    "plt.ylabel(\"Cosine Similarity\")\n",
    "plt.grid()\n",
    "plt.legend()\n",
    "plt.show()\n"
   ]
  },
  {
   "cell_type": "code",
   "execution_count": null,
   "metadata": {},
   "outputs": [],
   "source": [
    "mrgd001 = np.load(\"/home/efe/Desktop/Multiresolution-Framework-for-Fourier-Ptychography/experiments/results/exp1/cpwc_overlap50_mrgd_lambda1e-30_noise_typepoisson_noiseNone_lr0.001_loss.npy\")\n",
    "mrgd01 = np.load(\"/home/efe/Desktop/Multiresolution-Framework-for-Fourier-Ptychography/experiments/results/exp1/cpwc_overlap50_mrgd_lambda1e-30_noise_typepoisson_noiseNone_lr0.01_loss.npy\")\n",
    "mrgdp01 = np.load(\"/home/efe/Desktop/Multiresolution-Framework-for-Fourier-Ptychography/experiments/results/exp1/cpwc_overlap50_mrgdp_lambda1e-30_noise_typepoisson_noiseNone_lr0.01_loss.npy\")\n",
    "gd001 = np.load(\"/home/efe/Desktop/Multiresolution-Framework-for-Fourier-Ptychography/experiments/results/exp1/cpwc_overlap50_gd_lambda1e-30_noise_typepoisson_noiseNone_lr0.001_loss.npy\")\n",
    "gd01 = np.load(\"/home/efe/Desktop/Multiresolution-Framework-for-Fourier-Ptychography/experiments/results/exp1/cpwc_overlap50_gd_lambda1e-30_noise_typepoisson_noiseNone_lr0.01_loss.npy\")\n",
    "gd1 = np.load(\"/home/efe/Desktop/Multiresolution-Framework-for-Fourier-Ptychography/experiments/results/exp1/cpwc_overlap50_gd_lambda1e-30_noise_typepoisson_noiseNone_lr0.1_loss.npy\")"
   ]
  },
  {
   "cell_type": "code",
   "execution_count": null,
   "metadata": {},
   "outputs": [],
   "source": [
    "plt.figure(figsize=(10,5))\n",
    "plt.title(\"MSE\")\n",
    "plt.semilogy(mrgd001,label=\"MRGD w/ LR= 0.001\")\n",
    "plt.semilogy(mrgd01,label=\"MRGD w/ LR= 0.01\")\n",
    "plt.semilogy(mrgdp01,label=\"MRGD w/ LR= 0.01 x 2^(scale - min_scale)\")\n",
    "plt.semilogy(gd001,label=\"GD w/ LR= 0.001\")\n",
    "plt.semilogy(gd01,label=\"GD w/ LR= 0.01\")\n",
    "plt.semilogy(gd1,label=\"GD w/ LR= 0.1\")\n",
    "plt.xlabel(\"Iterations\")\n",
    "plt.ylabel(\"MSE\")\n",
    "plt.grid()\n",
    "plt.legend()\n",
    "plt.show()\n"
   ]
  },
  {
   "cell_type": "code",
   "execution_count": null,
   "metadata": {},
   "outputs": [],
   "source": []
  }
 ],
 "metadata": {
  "kernelspec": {
   "display_name": ".venv",
   "language": "python",
   "name": "python3"
  },
  "language_info": {
   "codemirror_mode": {
    "name": "ipython",
    "version": 3
   },
   "file_extension": ".py",
   "mimetype": "text/x-python",
   "name": "python",
   "nbconvert_exporter": "python",
   "pygments_lexer": "ipython3",
   "version": "3.8.10"
  }
 },
 "nbformat": 4,
 "nbformat_minor": 2
}
