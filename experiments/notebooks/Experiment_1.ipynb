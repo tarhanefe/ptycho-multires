{
 "cells": [
  {
   "cell_type": "markdown",
   "metadata": {},
   "source": [
    "Try different learning rates for GD vs MRGD\n",
    "\n",
    "* Use cosine similarity as metric\n"
   ]
  },
  {
   "cell_type": "code",
   "execution_count": null,
   "metadata": {},
   "outputs": [],
   "source": [
    "import os \n",
    "os.chdir(\"..\")\n",
    "os.chdir(\"..\")\n",
    "from src.cpwc.multires.class_multiressolver import *\n",
    "import matplotlib.pyplot as plt\n",
    "import torch\n",
    "from src.cpwc.tools.ptychography import Ptychography as Ptychography\n",
    "from src.cpwc.tools.utils import *\n",
    "torch.cuda.empty_cache()\n",
    "from src.utils.cuda_pyth import empty_cuda, print_cuda_tensors\n",
    "from src.utils.get_image import get_image\n",
    "from src.utils.noise import add_gaussian_noise, add_poisson_noise\n",
    "from src.utils.metrics import get_ring_average, F2fluxconverter\n",
    "from src.utils.manage_data import save_data,unwrap_2d,extract_data\n",
    "# Set seeds \n",
    "torch.manual_seed(0)\n",
    "np.random.seed(0)\n",
    "\n",
    "device = \"cuda\" if torch.cuda.is_available() else \"cpu\"\n",
    "max_scale = 9\n",
    "image,image_tensor_ = get_image(\"samples/potential.npy\", max_scale,device)\n",
    "max_probe_size = 128\n",
    "cycle = [0, -1, -1, -1,  1, 1, 1]\n",
    "tol = [1e-10] * 9\n",
    "tol_in = [1e-15] * 9\n",
    "max_shift = 32\n",
    "lmbda = 1e-30\n",
    "#noise = 1e30\n",
    "linOperator = Ptychography(max_scale = max_scale,max_probe_size = max_probe_size ,max_shift = max_shift,device=device)\n",
    "multires = MultiRes(max_scale, device)\n",
    "image_tensor__ = linOperator.apply(image_tensor_)\n",
    "#image_tensor__ = add_poisson_noise(image_tensor__, noise, 'cuda')\n",
    "loss = Loss(linOperator,image_tensor__,lmbda= lmbda)\n",
    "I_in = 25*np.array([1, 15, 10, 5, 10, 30, 100])\n",
    "#I_out = 10*np.array([0, 0, 0, 30, 10,10,300])\n",
    "I_out = 10*np.array([0, 0, 0, 3, 1,1,117])\n",
    "#I_out = 10*np.array([0, 0, 0, 0, 0,0,122])\n",
    "\n",
    "LR_list = [0,0,0,2e-2,3e-2,5e-2,1e-1]"
   ]
  },
  {
   "cell_type": "code",
   "execution_count": null,
   "metadata": {},
   "outputs": [],
   "source": [
    "import os \n",
    "os.chdir(\"..\")\n",
    "os.chdir(\"..\")\n",
    "from src.cpwc.multires.class_multiressolver import *\n",
    "import matplotlib.pyplot as plt\n",
    "import torch\n",
    "from src.cpwc.tools.ptychography import Ptychography as Ptychography\n",
    "from src.cpwc.tools.utils import *\n",
    "torch.cuda.empty_cache()\n",
    "from src.utils.cuda_pyth import empty_cuda, print_cuda_tensors\n",
    "from src.utils.get_image import get_image\n",
    "from src.utils.noise import add_gaussian_noise, add_poisson_noise\n",
    "from src.utils.metrics import get_ring_average, F2fluxconverter\n",
    "from src.utils.manage_data import save_data,unwrap_2d,extract_data\n",
    "# Set seeds \n",
    "torch.manual_seed(0)\n",
    "np.random.seed(0)\n",
    "\n",
    "device = \"cuda\" if torch.cuda.is_available() else \"cpu\"\n",
    "max_scale = 9\n",
    "image,image_tensor_ = get_image(\"samples/potential.npy\", max_scale,device)\n",
    "max_probe_size = 128\n",
    "cycle = [0, -1, -1, -1,  1, 1, 1]\n",
    "tol = [1e-10] * 9\n",
    "tol_in = [1e-15] * 9\n",
    "max_shift = 32\n",
    "lmbda = 1e-30\n",
    "#noise = 1e30\n",
    "linOperator = Ptychography(max_scale = max_scale,max_probe_size = max_probe_size ,max_shift = max_shift,device=device)\n",
    "multires = MultiRes(max_scale, device)\n",
    "image_tensor__ = linOperator.apply(image_tensor_)\n",
    "#image_tensor__ = add_poisson_noise(image_tensor__, noise, 'cuda')\n",
    "loss = Loss(linOperator,image_tensor__,lmbda= lmbda)\n",
    "I_in = 25*np.array([1, 15, 10, 5, 10, 30, 100])\n",
    "#I_out = 10*np.array([0, 0, 0, 30, 10,10,300])\n",
    "I_out = 10*np.array([0, 0, 0, 3, 1,1,117])\n",
    "#I_out = 10*np.array([0, 0, 0, 0, 0,0,122])\n",
    "\n",
    "LR_list = [0,0,0,2e-2,3e-2,5e-2,1e-1]\n",
    "\n",
    "import torch\n",
    "import numpy as np\n",
    "from scipy.sparse.linalg import LinearOperator, eigs\n",
    "\n",
    "# Define the function once more for clarity\n",
    "def matvec(x, c, y):\n",
    "    Ax = linOperator.apply_linop(c)            # (1, B, N, N)\n",
    "    Ax_pwr = linOperator.apply(c)              # (1, B, N, N)\n",
    "    abs_Ax = torch.sqrt(Ax_pwr)\n",
    "    sqrt_y = torch.sqrt(y)\n",
    "    \n",
    "    term1_factor = (sqrt_y - abs_Ax) / (abs_Ax + 1e-10)\n",
    "    term1 = term1_factor * torch.conj(Ax)\n",
    "    term2 = (Ax / (abs_Ax + 1e-10)) * (torch.conj(Ax) / (abs_Ax + 1e-10))\n",
    "    hterm = term1 + term2\n",
    "\n",
    "    x = linOperator.apply_linop(x)\n",
    "    x = x * hterm\n",
    "    x = linOperator.apply_linopT(x)\n",
    "    return x\n",
    "\n",
    "# Build the LinearOperator\n",
    "def build_operator(c, y):\n",
    "    shape = c.shape\n",
    "    size = int(np.prod(shape))\n",
    "\n",
    "    def mv(x_np):\n",
    "        x = torch.from_numpy(x_np).to(c.device).type(torch.cfloat).reshape_as(c)\n",
    "        out = matvec(x, c, y)\n",
    "        return out.detach().cpu().numpy().reshape(-1)\n",
    "\n",
    "    return LinearOperator(\n",
    "        dtype=np.complex64,\n",
    "        shape=(size, size),\n",
    "        matvec=mv\n",
    "    )\n",
    "\n",
    "c = torch.randn_like(image_tensor__).to(device) \n",
    "linop = build_operator(c=c, y=image_tensor__)\n",
    "vals, vecs = eigs(linop, k=1, which='LM')\n",
    "\n",
    "print(\"Largest eigenvalue:\", vals[0])\n",
    "\n",
    "\n"
   ]
  },
  {
   "cell_type": "code",
   "execution_count": null,
   "metadata": {},
   "outputs": [],
   "source": [
    "model = MultiResSolver(multires, \n",
    "                        loss, \n",
    "                        LR = LR_list,\n",
    "                        I_in = I_in,\n",
    "                        I_out = I_out,\n",
    "                        tol = tol,\n",
    "                        tol_in = tol_in,\n",
    "                        cycle = cycle,\n",
    "                        l1_type = \"l1_row\",\n",
    "                        gt = image_tensor_)\n",
    "model.solve_multigrid()\n",
    "model.print_time()"
   ]
  },
  {
   "cell_type": "code",
   "execution_count": null,
   "metadata": {},
   "outputs": [],
   "source": [
    "loss  = extract_data(model.measures[\"loss\"])\n",
    "plt.semilogy(loss)\n",
    "plt.grid()\n",
    "plt.show()"
   ]
  },
  {
   "cell_type": "code",
   "execution_count": null,
   "metadata": {},
   "outputs": [],
   "source": [
    "mean_img = np.mean(image)\n",
    "phase = torch.angle(model.c_k[0,0,:,:].to('cpu'))\n",
    "phase = phase.numpy()\n",
    "phase = unwrap_2d(phase)\n",
    "plt.imshow(phase, cmap='gray')\n"
   ]
  },
  {
   "cell_type": "code",
   "execution_count": null,
   "metadata": {},
   "outputs": [],
   "source": [
    "if max_shift == 32:\n",
    "    overlap = 75\n",
    "elif max_shift == 64:\n",
    "    overlap = 50\n",
    "else:\n",
    "    overlap = 25\n",
    "from src.utils.manage_data import save_data,unwrap_2d,extract_data\n",
    "\n",
    "path = save_data(\n",
    "          path = \"experiments/results/exp4\",\n",
    "          model = model,\n",
    "          image_path= \"samples/Shepp_logan.png\",\n",
    "          metrics = ['csim','loss','frc',\"image\"],\n",
    "          device = \"cuda\",\n",
    "          max_scale = 9,\n",
    "          overlap = overlap,\n",
    "          spline_type=\"cpwc\",\n",
    "          lambda_ = lmbda,\n",
    "          lr = 2e-2,\n",
    "          noise_type=\"poisson\",\n",
    "          noise = \"None\",\n",
    "          loop = \"mrgdp\")\n",
    "\n"
   ]
  },
  {
   "cell_type": "code",
   "execution_count": null,
   "metadata": {},
   "outputs": [],
   "source": [
    "mrgd001 = np.load(\"/home/efe/Desktop/Multiresolution-Framework-for-Fourier-Ptychography/experiments/results/exp1/cpwc_overlap50_mrgd_lambda1e-30_noise_typepoisson_noiseNone_lr0.001_csim.npy\")\n",
    "mrgdp01 = np.load(\"/home/efe/Desktop/Multiresolution-Framework-for-Fourier-Ptychography/experiments/results/exp1/cpwc_overlap50_mrgdp_lambda1e-30_noise_typepoisson_noiseNone_lr0.01_csim.npy\")\n",
    "mrgd01 = np.load(\"/home/efe/Desktop/Multiresolution-Framework-for-Fourier-Ptychography/experiments/results/exp1/cpwc_overlap50_mrgd_lambda1e-30_noise_typepoisson_noiseNone_lr0.01_csim.npy\")\n",
    "gd001 = np.load(\"/home/efe/Desktop/Multiresolution-Framework-for-Fourier-Ptychography/experiments/results/exp1/cpwc_overlap50_gd_lambda1e-30_noise_typepoisson_noiseNone_lr0.001_csim.npy\")\n",
    "gd01 = np.load(\"/home/efe/Desktop/Multiresolution-Framework-for-Fourier-Ptychography/experiments/results/exp1/cpwc_overlap50_gd_lambda1e-30_noise_typepoisson_noiseNone_lr0.01_csim.npy\")\n",
    "gd1 = np.load(\"/home/efe/Desktop/Multiresolution-Framework-for-Fourier-Ptychography/experiments/results/exp1/cpwc_overlap50_gd_lambda1e-30_noise_typepoisson_noiseNone_lr0.1_csim.npy\")"
   ]
  },
  {
   "cell_type": "code",
   "execution_count": null,
   "metadata": {},
   "outputs": [],
   "source": [
    "plt.figure(figsize=(15,7))\n",
    "plt.title(\"1-Cosine Similarity\")\n",
    "plt.semilogy(1-mrgd001,label=\"MRGD w/ LR= 0.001\")\n",
    "plt.semilogy(1-mrgd01,label=\"MRGD w/ LR= 0.01\")\n",
    "plt.semilogy(1-mrgdp01,label=\"MRGD w/ LR= 0.01 x 2^(scale - min_scale)\")\n",
    "plt.semilogy(1-gd001,label=\"GD w/ LR= 0.001\")\n",
    "plt.semilogy(1-gd01,label=\"GD w/ LR= 0.01\")\n",
    "plt.semilogy(1-gd1,label=\"GD w/ LR= 0.1\")\n",
    "plt.xlabel(\"Iterations\")\n",
    "plt.ylabel(\"Cosine Similarity\")\n",
    "plt.grid()\n",
    "plt.legend()\n",
    "plt.show()\n"
   ]
  },
  {
   "cell_type": "code",
   "execution_count": null,
   "metadata": {},
   "outputs": [],
   "source": [
    "mrgd001 = np.load(\"/home/efe/Desktop/Multiresolution-Framework-for-Fourier-Ptychography/experiments/results/exp1/cpwc_overlap50_mrgd_lambda1e-30_noise_typepoisson_noiseNone_lr0.001_loss.npy\")\n",
    "mrgd01 = np.load(\"/home/efe/Desktop/Multiresolution-Framework-for-Fourier-Ptychography/experiments/results/exp1/cpwc_overlap50_mrgd_lambda1e-30_noise_typepoisson_noiseNone_lr0.01_loss.npy\")\n",
    "mrgdp01 = np.load(\"/home/efe/Desktop/Multiresolution-Framework-for-Fourier-Ptychography/experiments/results/exp1/cpwc_overlap50_mrgdp_lambda1e-30_noise_typepoisson_noiseNone_lr0.01_loss.npy\")\n",
    "gd001 = np.load(\"/home/efe/Desktop/Multiresolution-Framework-for-Fourier-Ptychography/experiments/results/exp1/cpwc_overlap50_gd_lambda1e-30_noise_typepoisson_noiseNone_lr0.001_loss.npy\")\n",
    "gd01 = np.load(\"/home/efe/Desktop/Multiresolution-Framework-for-Fourier-Ptychography/experiments/results/exp1/cpwc_overlap50_gd_lambda1e-30_noise_typepoisson_noiseNone_lr0.01_loss.npy\")\n",
    "gd1 = np.load(\"/home/efe/Desktop/Multiresolution-Framework-for-Fourier-Ptychography/experiments/results/exp1/cpwc_overlap50_gd_lambda1e-30_noise_typepoisson_noiseNone_lr0.1_loss.npy\")"
   ]
  },
  {
   "cell_type": "code",
   "execution_count": null,
   "metadata": {},
   "outputs": [],
   "source": [
    "plt.figure(figsize=(10,5))\n",
    "plt.title(\"MSE\")\n",
    "plt.semilogy(mrgd001,label=\"MRGD w/ LR= 0.001\")\n",
    "plt.semilogy(mrgd01,label=\"MRGD w/ LR= 0.01\")\n",
    "plt.semilogy(mrgdp01,label=\"MRGD w/ LR= 0.01 x 2^(scale - min_scale)\")\n",
    "plt.semilogy(gd001,label=\"GD w/ LR= 0.001\")\n",
    "plt.semilogy(gd01,label=\"GD w/ LR= 0.01\")\n",
    "plt.semilogy(gd1,label=\"GD w/ LR= 0.1\")\n",
    "plt.xlabel(\"Iterations\")\n",
    "plt.ylabel(\"MSE\")\n",
    "plt.grid()\n",
    "plt.legend()\n",
    "plt.show()\n"
   ]
  },
  {
   "cell_type": "code",
   "execution_count": null,
   "metadata": {},
   "outputs": [],
   "source": [
    "gd = np.load(\"/home/efe/Desktop/Multiresolution-Framework-for-Fourier-Ptychography/experiments/results/exp1/cpwc_overlap50_gd_lambda1e-30_noise_typepoisson_noiseNone_lr0.1_loss.npy\")\n",
    "mrgd = np.load(\"/home/efe/Desktop/Multiresolution-Framework-for-Fourier-Ptychography/experiments/results/exp1/cpwc_overlap50_mrgdp_lambda1e-30_noise_typepoisson_noiseNone_lr0.02_loss.npy\")"
   ]
  },
  {
   "cell_type": "code",
   "execution_count": null,
   "metadata": {},
   "outputs": [],
   "source": [
    "plt.figure()\n",
    "plt.title(\"MSE\")\n",
    "plt.semilogy(gd,label=\"GD w/ LR= 0.1\")\n",
    "plt.semilogy(mrgd,label=\"MRGD w/ LR= 0.02\")\n",
    "plt.xlabel(\"Iterations\")\n",
    "plt.ylabel(\"MSE\")\n",
    "plt.grid()\n",
    "plt.legend()\n",
    "plt.show()"
   ]
  },
  {
   "cell_type": "code",
   "execution_count": null,
   "metadata": {},
   "outputs": [],
   "source": [
    "img = np.load(\"/home/efe/Desktop/Multiresolution-Framework-for-Fourier-Ptychography/experiments/results/exp4/cpwc_overlap75_gd_lambda1e-30_noise_typepoisson_noiseNone_lr0.02_image.npy\")\n",
    "plt.figure(dpi = 600)\n",
    "plt.imshow(img, cmap='gray')\n",
    "plt.axis('off')\n"
   ]
  },
  {
   "cell_type": "code",
   "execution_count": null,
   "metadata": {},
   "outputs": [],
   "source": [
    "lossmrgd = np.load(\"/home/efe/Desktop/Multiresolution-Framework-for-Fourier-Ptychography/experiments/results/exp4/cpwc_overlap75_mrgdp_lambda1e-30_noise_typepoisson_noiseNone_lr0.02_loss.npy\")\n",
    "lossgd = np.load(\"/home/efe/Desktop/Multiresolution-Framework-for-Fourier-Ptychography/experiments/results/exp4/cpwc_overlap75_gd_lambda1e-30_noise_typepoisson_noiseNone_lr0.02_loss.npy\")\n"
   ]
  },
  {
   "cell_type": "code",
   "execution_count": null,
   "metadata": {},
   "outputs": [],
   "source": [
    "plt.figure(figsize=(10,5))\n",
    "plt.title(\"MSE\")\n",
    "plt.semilogy(lossmrgd,label=\"MRGD\")\n",
    "plt.semilogy(lossgd,label=\"GD\")\n",
    "plt.xlabel(\"Iterations\")\n",
    "plt.ylabel(\"MSE\")\n",
    "plt.grid()\n",
    "plt.legend()\n",
    "plt.show()\n"
   ]
  },
  {
   "cell_type": "code",
   "execution_count": null,
   "metadata": {},
   "outputs": [],
   "source": []
  }
 ],
 "metadata": {
  "kernelspec": {
   "display_name": ".venv",
   "language": "python",
   "name": "python3"
  },
  "language_info": {
   "codemirror_mode": {
    "name": "ipython",
    "version": 3
   },
   "file_extension": ".py",
   "mimetype": "text/x-python",
   "name": "python",
   "nbconvert_exporter": "python",
   "pygments_lexer": "ipython3",
   "version": "3.8.10"
  }
 },
 "nbformat": 4,
 "nbformat_minor": 2
}
