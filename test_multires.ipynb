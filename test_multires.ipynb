{
 "cells": [
  {
   "cell_type": "code",
   "execution_count": null,
   "metadata": {},
   "outputs": [],
   "source": [
    "from ptycho_v2.multires_v2.class_multiressolver import *\n",
    "import matplotlib.pyplot as plt\n",
    "import torch\n",
    "from ptycho_v2.tools_v2.ptychography import Ptychography as Ptychography\n",
    "from utils import *\n",
    "\n",
    "# Set seeds \n",
    "torch.manual_seed(0)\n",
    "np.random.seed(0)\n"
   ]
  },
  {
   "cell_type": "code",
   "execution_count": null,
   "metadata": {},
   "outputs": [],
   "source": [
    "max_scale = 7\n",
    "max_probe_size = 32\n",
    "max_shift = 8\n",
    "device = 'cuda'\n",
    "I_in = 15*np.array([1, 15, 10, 5, 10, 30, 100])\n",
    "I_out = 20*np.array([0, 0, 0, 30, 30,40,80])\n",
    "cycle = [0, -1, -1, -1,  1, 1, 1]\n",
    "lmbda = 0\n",
    "LR = 1e-1\n",
    "tol = [1e-10] * 9\n",
    "tol_in = [1e-10] * 9\n",
    "\n",
    "linOperator = Ptychography(max_scale = max_scale,max_probe_size = max_probe_size ,max_shift = max_shift,device=device)\n",
    "\n",
    "image = plt.imread('images/peppers_reduced.jpg')/ 255\n",
    "image_tensor = torch.tensor(image).double().to(device).view(1, 1, 2**max_scale, 2**max_scale)\n",
    "image_tensor_ = torch.exp(1j * image_tensor)\n",
    "multires = MultiRes(max_scale, device)\n",
    "#loss = Loss(linOperator,linOperator.apply(image_tensor_), lmbda = lmbda)\n",
    "loss = Loss(linOperator,linOperator.apply(image_tensor_))\n",
    "model = MultiResSolver(multires, loss, LR = LR,\n",
    "                        I_in = I_in,\n",
    "                        I_out = I_out,\n",
    "                        tol = tol,\n",
    "                        tol_in = tol_in,\n",
    "                        cycle = cycle,\n",
    "                        l1_type = \"l1_row\")\n",
    "\n",
    "model.solve_multigrid()\n",
    "model.print_time()\n"
   ]
  },
  {
   "cell_type": "code",
   "execution_count": null,
   "metadata": {},
   "outputs": [],
   "source": [
    "plot_results(model,image)"
   ]
  },
  {
   "cell_type": "code",
   "execution_count": null,
   "metadata": {},
   "outputs": [],
   "source": []
  }
 ],
 "metadata": {
  "kernelspec": {
   "display_name": ".venv",
   "language": "python",
   "name": "python3"
  },
  "language_info": {
   "codemirror_mode": {
    "name": "ipython",
    "version": 3
   },
   "file_extension": ".py",
   "mimetype": "text/x-python",
   "name": "python",
   "nbconvert_exporter": "python",
   "pygments_lexer": "ipython3",
   "version": "3.8.10"
  }
 },
 "nbformat": 4,
 "nbformat_minor": 2
}
