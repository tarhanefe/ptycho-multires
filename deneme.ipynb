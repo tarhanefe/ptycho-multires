{
 "cells": [
  {
   "cell_type": "code",
   "execution_count": null,
   "metadata": {},
   "outputs": [],
   "source": [
    "import torch\n",
    "import time\n",
    "\n",
    "# Generate random complex values\n",
    "Ax = torch.randn(1000000, dtype=torch.cfloat)  # 1M complex numbers\n",
    "\n",
    "# Method 1: Division by absolute value\n",
    "start = time.time()\n",
    "sign_Ax_div = Ax / (torch.abs(Ax) + 1e-8)\n",
    "end = time.time()\n",
    "print(\"Time for division method:\", end - start)\n",
    "\n",
    "# Method 2: Using torch.angle and exp\n",
    "start = time.time()\n",
    "sign_Ax_angle = torch.exp(1j * torch.angle(Ax))\n",
    "end = time.time()\n",
    "print(\"Time for angle method:\", end - start)\n",
    "\n",
    "# Check if results are the same\n",
    "print(\"Max difference:\", torch.max(torch.abs(sign_Ax_div - sign_Ax_angle)))"
   ]
  },
  {
   "cell_type": "code",
   "execution_count": null,
   "metadata": {},
   "outputs": [],
   "source": []
  }
 ],
 "metadata": {
  "kernelspec": {
   "display_name": ".venv",
   "language": "python",
   "name": "python3"
  },
  "language_info": {
   "name": "python",
   "version": "3.8.10"
  }
 },
 "nbformat": 4,
 "nbformat_minor": 2
}
